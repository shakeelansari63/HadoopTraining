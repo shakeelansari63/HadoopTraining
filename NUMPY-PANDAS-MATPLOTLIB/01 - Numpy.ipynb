{
 "cells": [
  {
   "cell_type": "markdown",
   "metadata": {},
   "source": [
    "## Numpy Array\n",
    "### Creating 1D Array"
   ]
  },
  {
   "cell_type": "code",
   "execution_count": 8,
   "metadata": {},
   "outputs": [
    {
     "name": "stdout",
     "output_type": "stream",
     "text": [
      "[1 2 3 4 5] \n",
      "\n",
      "2\n"
     ]
    }
   ],
   "source": [
    "import numpy as np\n",
    "\n",
    "## Normal Array\n",
    "a = [1, 2, 3, 4, 5]\n",
    "\n",
    "## Numpy Array\n",
    "b = np.array([1, 2, 3, 4, 5])\n",
    "\n",
    "## Display Array\n",
    "print(b, '\\n')\n",
    "\n",
    "## Individual element access\n",
    "print(b[1])\n"
   ]
  },
  {
   "cell_type": "markdown",
   "metadata": {},
   "source": [
    "### Multi-Dimensional Array"
   ]
  },
  {
   "cell_type": "code",
   "execution_count": 9,
   "metadata": {},
   "outputs": [
    {
     "name": "stdout",
     "output_type": "stream",
     "text": [
      "[[1 2 3]\n",
      " [4 5 6]\n",
      " [7 8 9]] \n",
      "\n",
      "[4 5 6] \n",
      "\n",
      "8\n"
     ]
    }
   ],
   "source": [
    "import numpy as np\n",
    "\n",
    "a = np.array([\n",
    "    [1, 2, 3],\n",
    "    [4, 5, 6],\n",
    "    [7, 8, 9]\n",
    "])\n",
    "\n",
    "## Display Array\n",
    "print(a, '\\n')\n",
    "\n",
    "## Access Individual Element\n",
    "print(a[1], '\\n')\n",
    "print(a[2][1])"
   ]
  },
  {
   "cell_type": "markdown",
   "metadata": {},
   "source": [
    "### Getting dimension / Shape if Array"
   ]
  },
  {
   "cell_type": "code",
   "execution_count": 45,
   "metadata": {},
   "outputs": [
    {
     "name": "stdout",
     "output_type": "stream",
     "text": [
      "Dimension of a: 1 \n",
      "\n",
      "Dimension of b: 2 \n",
      "\n",
      "Shape of a: (5,) \n",
      "\n",
      "Shape of b: (3, 3) \n",
      "\n",
      "Dimension of c: 1 \n",
      "\n",
      "Shape of c: (2,)\n"
     ]
    }
   ],
   "source": [
    "import numpy as np\n",
    "\n",
    "a = np.array([1, 2, 3, 4, 5])\n",
    "b = np.array([\n",
    "    [1, 2, 3],\n",
    "    [4, 5, 6],\n",
    "    [7, 8, 9]\n",
    "])\n",
    "c = np.array([\n",
    "    [\n",
    "        [1, 2, 3],\n",
    "        [4, 5, 6]\n",
    "    ],[\n",
    "        [10, 20],\n",
    "        [30, 40],\n",
    "        [50, 60]\n",
    "    ]\n",
    "])\n",
    "## Show Dimension\n",
    "## Gives depth/max dimension\n",
    "print('Dimension of a:',a.ndim, '\\n')\n",
    "print('Dimension of b:',b.ndim, '\\n')\n",
    "\n",
    "## Gives Shape\n",
    "print('Shape of a:',a.shape, '\\n')\n",
    "print('Shape of b:',b.shape, '\\n')\n",
    "\n",
    "## If all dimensions are not fully filled regularly, then numpy does not show dimension / shape\n",
    "print('Dimension of c:',c.ndim, '\\n')\n",
    "print('Shape of c:',c.shape)"
   ]
  },
  {
   "cell_type": "markdown",
   "metadata": {},
   "source": [
    "### Getting number of elements in Array"
   ]
  },
  {
   "cell_type": "code",
   "execution_count": 46,
   "metadata": {},
   "outputs": [
    {
     "name": "stdout",
     "output_type": "stream",
     "text": [
      "5 \n",
      "\n",
      "9\n"
     ]
    }
   ],
   "source": [
    "import numpy as np\n",
    "\n",
    "a = np.array([1, 2, 3, 4, 5])\n",
    "b = np.array([\n",
    "    [1, 2, 3],\n",
    "    [4, 5, 6],\n",
    "    [7, 8, 9]\n",
    "])\n",
    "\n",
    "## Get number of elements\n",
    "print(a.size, '\\n')\n",
    "print(b.size)"
   ]
  },
  {
   "cell_type": "markdown",
   "metadata": {},
   "source": [
    "### Data Type of elements in Array"
   ]
  },
  {
   "cell_type": "code",
   "execution_count": 49,
   "metadata": {},
   "outputs": [
    {
     "name": "stdout",
     "output_type": "stream",
     "text": [
      "float64\n",
      "int64\n",
      "float64\n"
     ]
    }
   ],
   "source": [
    "import numpy as np\n",
    "a = np.array([1.2, 2.3, 3.4, 4.5, 5.6])\n",
    "b = np.array([\n",
    "    [1, 2, 3],\n",
    "    [4, 5, 6],\n",
    "    [7, 8, 9]\n",
    "])\n",
    "c = np.array([\n",
    "    [1, 2, 3],\n",
    "    [4, 5, 6],\n",
    "    [7, 8, 9]\n",
    "], dtype = float)\n",
    "\n",
    "## Print Data Types of Elements\n",
    "print(a.dtype)\n",
    "print(b.dtype)\n",
    "\n",
    "## Data type can be defined while defining array as done for c\n",
    "print(c.dtype)"
   ]
  },
  {
   "cell_type": "markdown",
   "metadata": {},
   "source": [
    "### Zeros and Ones Matrix\n",
    "Create matrix of all zeros/ones for the given shape"
   ]
  },
  {
   "cell_type": "code",
   "execution_count": 17,
   "metadata": {},
   "outputs": [
    {
     "name": "stdout",
     "output_type": "stream",
     "text": [
      "[[0. 0. 0. 0.]\n",
      " [0. 0. 0. 0.]\n",
      " [0. 0. 0. 0.]] \n",
      "\n",
      "[[1. 1. 1.]\n",
      " [1. 1. 1.]\n",
      " [1. 1. 1.]\n",
      " [1. 1. 1.]]\n"
     ]
    }
   ],
   "source": [
    "import numpy as np\n",
    "\n",
    "## Fill 3x4 array with 0s\n",
    "a = np.zeros((3, 4))\n",
    "\n",
    "## Fill 4x3 array with 1s\n",
    "b = np.ones((4, 3))\n",
    "\n",
    "print(a, '\\n')\n",
    "print(b)"
   ]
  },
  {
   "cell_type": "markdown",
   "metadata": {},
   "source": [
    "### Custom Number full array\n",
    "Create matrix of all the values filled with given number for provided shape"
   ]
  },
  {
   "cell_type": "code",
   "execution_count": 18,
   "metadata": {},
   "outputs": [
    {
     "name": "stdout",
     "output_type": "stream",
     "text": [
      "[[4 4 4 4 4]\n",
      " [4 4 4 4 4]\n",
      " [4 4 4 4 4]]\n"
     ]
    }
   ],
   "source": [
    "import numpy as np\n",
    "\n",
    "## Fill 3x5 array with 4s\n",
    "a = np.full((3, 5), 4)\n",
    "\n",
    "print(a)"
   ]
  },
  {
   "cell_type": "markdown",
   "metadata": {},
   "source": [
    "### Empty Matrix\n",
    "Create matrix of provided shape with uninitialized values. Usually the values will look like junk."
   ]
  },
  {
   "cell_type": "code",
   "execution_count": 20,
   "metadata": {},
   "outputs": [
    {
     "name": "stdout",
     "output_type": "stream",
     "text": [
      "[[4.64484131e-310 0.00000000e+000 0.00000000e+000 0.00000000e+000\n",
      "  0.00000000e+000 0.00000000e+000 0.00000000e+000]\n",
      " [0.00000000e+000 0.00000000e+000 0.00000000e+000 0.00000000e+000\n",
      "  0.00000000e+000 0.00000000e+000 0.00000000e+000]]\n"
     ]
    }
   ],
   "source": [
    "import numpy as np\n",
    "\n",
    "## Create empty matrix\n",
    "a = np.empty((2, 7))\n",
    "\n",
    "print(a)"
   ]
  },
  {
   "cell_type": "markdown",
   "metadata": {},
   "source": [
    "### Random Number\n",
    "Create a matrix of given shape with random number $0 \\le n \\le 1$"
   ]
  },
  {
   "cell_type": "code",
   "execution_count": 21,
   "metadata": {},
   "outputs": [
    {
     "name": "stdout",
     "output_type": "stream",
     "text": [
      "[[0.81830402 0.40728714 0.1661629  0.78176017 0.69523874 0.0474638 ]\n",
      " [0.31860297 0.04720085 0.53592058 0.78717893 0.73634145 0.02407926]\n",
      " [0.55849112 0.36377059 0.29023907 0.17318162 0.57651734 0.85867694]]\n"
     ]
    }
   ],
   "source": [
    "import numpy as np\n",
    "\n",
    "## 3x6 matrix of random numbers\n",
    "a = np.random.random((3, 6))\n",
    "\n",
    "print(a)"
   ]
  },
  {
   "cell_type": "markdown",
   "metadata": {},
   "source": [
    "### Range of values\n",
    "create a vector / 1D array for given start and end with step"
   ]
  },
  {
   "cell_type": "code",
   "execution_count": 37,
   "metadata": {},
   "outputs": [
    {
     "name": "stdout",
     "output_type": "stream",
     "text": [
      "[ 0  5 10 15 20 25 30 35 40 45 50]\n",
      "[ 0.  5. 10. 15. 20. 25. 30. 35. 40. 45. 50.]\n"
     ]
    }
   ],
   "source": [
    "import numpy as np\n",
    "\n",
    "## Vector starting 0 to 50 with step of 5 excluing higher limit\n",
    "a = np.arange(0, 51, 5)\n",
    "\n",
    "## Linspace generate n number of evenly spaced values between the given range including higher limit\n",
    "b = np.linspace(0, 50, 11)\n",
    "\n",
    "print(a)\n",
    "print(b)"
   ]
  },
  {
   "cell_type": "markdown",
   "metadata": {},
   "source": [
    "### Basic Mathematical operations\n",
    "Mathematical operation on Numpy array is propagated to its elements unlike normal list where it change list length"
   ]
  },
  {
   "cell_type": "code",
   "execution_count": 28,
   "metadata": {},
   "outputs": [
    {
     "name": "stdout",
     "output_type": "stream",
     "text": [
      "Add Normal List: [1, 2, 3, 4, 5, 6, 7, 8, 9, 0] \n",
      "\n",
      "Add Numpy Array:  [ 7  9 11 13  5] \n",
      "\n",
      "Add Constant to Numpy Array: [3 4 5 6 7] \n",
      "\n",
      "List * constant: [1, 2, 3, 4, 5, 1, 2, 3, 4, 5] \n",
      "\n",
      "Numpy Array * Constant: [ 2  4  6  8 10] \n",
      "\n",
      "Numpy Array ** 3: [  1   8  27  64 125]\n"
     ]
    }
   ],
   "source": [
    "import numpy as np\n",
    "\n",
    "## Normal List\n",
    "a = [1, 2, 3, 4, 5]\n",
    "b = [6, 7, 8, 9, 0]\n",
    "\n",
    "## Numpy Array\n",
    "c = np.array([1, 2, 3, 4, 5])\n",
    "d = np.array([6, 7, 8, 9, 0])\n",
    "\n",
    "## Output\n",
    "print('Add Normal List:', a + b, '\\n')\n",
    "\n",
    "## Add Numpy Arrays\n",
    "print('Add Numpy Array: ', c + d, '\\n')\n",
    "\n",
    "## Add Numpy array with Constant\n",
    "print('Add Constant to Numpy Array:', 2 + c, '\\n')\n",
    "\n",
    "## Multiply List with constant number increase list length\n",
    "print('List * constant:', a * 2, '\\n')\n",
    "\n",
    "## Multiply Numpy arrays with constant number\n",
    "print('Numpy Array * Constant:', c * 2, '\\n')\n",
    "\n",
    "## Power on Numpy Array\n",
    "print('Numpy Array ** 3:', c ** 3)"
   ]
  },
  {
   "cell_type": "markdown",
   "metadata": {},
   "source": [
    "### Equations with Numpy"
   ]
  },
  {
   "cell_type": "code",
   "execution_count": 33,
   "metadata": {},
   "outputs": [
    {
     "name": "stdout",
     "output_type": "stream",
     "text": [
      "[   0   35  120  255  440  675  960 1295 1680 2115 2600] \n",
      "\n",
      "[ 0.         -0.95892427 -0.54402111  0.65028784  0.91294525 -0.13235175\n",
      " -0.98803162 -0.42818267  0.74511316  0.85090352 -0.26237485]\n"
     ]
    }
   ],
   "source": [
    "import numpy as np\n",
    "\n",
    "## X Co-ordinates\n",
    "x = np.arange(0, 51, 5)\n",
    "y1 = x**2 + 2*x  ## Y = X^2 + 2X\n",
    "y2 = np.sin(x)   ## Y = Sin(X)\n",
    "\n",
    "print(y1, '\\n')\n",
    "print(y2)"
   ]
  },
  {
   "cell_type": "markdown",
   "metadata": {},
   "source": [
    "### Advance Mathematical Operations"
   ]
  },
  {
   "cell_type": "code",
   "execution_count": 20,
   "metadata": {},
   "outputs": [
    {
     "name": "stdout",
     "output_type": "stream",
     "text": [
      "Sin(a):  [[ 0.84147098  0.90929743  0.14112001]\n",
      " [-0.7568025  -0.95892427 -0.2794155 ]\n",
      " [ 0.6569866   0.98935825  0.41211849]] \n",
      "\n",
      "Cos(a):  [[ 0.54030231 -0.41614684 -0.9899925 ]\n",
      " [-0.65364362  0.28366219  0.96017029]\n",
      " [ 0.75390225 -0.14550003 -0.91113026]] \n",
      "\n",
      "Tan(a):  [[ 1.55740772 -2.18503986 -0.14254654]\n",
      " [ 1.15782128 -3.38051501 -0.29100619]\n",
      " [ 0.87144798 -6.79971146 -0.45231566]] \n",
      "\n",
      "Sin^-1(a):  [[1.57079633        nan        nan]\n",
      " [       nan        nan        nan]\n",
      " [       nan        nan        nan]] \n",
      "\n",
      "Cos^-1(a):  [[ 0. nan nan]\n",
      " [nan nan nan]\n",
      " [nan nan nan]] \n",
      "\n",
      "Tan^-1(a):  [[0.78539816 1.10714872 1.24904577]\n",
      " [1.32581766 1.37340077 1.40564765]\n",
      " [1.42889927 1.44644133 1.46013911]] \n",
      "\n",
      "e^a:  [[2.71828183e+00 7.38905610e+00 2.00855369e+01]\n",
      " [5.45981500e+01 1.48413159e+02 4.03428793e+02]\n",
      " [1.09663316e+03 2.98095799e+03 8.10308393e+03]] \n",
      "\n",
      "e^(pi*i):  (-1+1.2246467991473532e-16j) \n",
      "\n",
      "Squareroot(a):  [[1.         1.41421356 1.73205081]\n",
      " [2.         2.23606798 2.44948974]\n",
      " [2.64575131 2.82842712 3.        ]] \n",
      "\n",
      "Natural Log(a) to base e:  [[0.         0.69314718 1.09861229]\n",
      " [1.38629436 1.60943791 1.79175947]\n",
      " [1.94591015 2.07944154 2.19722458]] \n",
      "\n",
      "Log(a) to base 10:  [[0.         0.30103    0.47712125]\n",
      " [0.60205999 0.69897    0.77815125]\n",
      " [0.84509804 0.90308999 0.95424251]] \n",
      "\n",
      "Log(a) to base 2:  [[0.         1.         1.5849625 ]\n",
      " [2.         2.32192809 2.5849625 ]\n",
      " [2.80735492 3.         3.169925  ]] \n",
      "\n"
     ]
    },
    {
     "name": "stderr",
     "output_type": "stream",
     "text": [
      "<ipython-input-20-72bee2028ca5>:14: RuntimeWarning: invalid value encountered in arcsin\n",
      "  print(\"Sin^-1(a): \", np.arcsin(a), '\\n')\n",
      "<ipython-input-20-72bee2028ca5>:15: RuntimeWarning: invalid value encountered in arccos\n",
      "  print(\"Cos^-1(a): \", np.arccos(a), '\\n')\n"
     ]
    }
   ],
   "source": [
    "import numpy as np\n",
    "\n",
    "a = np.array([\n",
    "    [1, 2, 3],\n",
    "    [4, 5, 6],\n",
    "    [7, 8, 9]\n",
    "])\n",
    "\n",
    "## Trignometry\n",
    "## Here angles are considered in radians. \n",
    "print(\"Sin(a): \", np.sin(a), '\\n')\n",
    "print(\"Cos(a): \", np.cos(a), '\\n')\n",
    "print(\"Tan(a): \", np.tan(a), '\\n')\n",
    "print(\"Sin^-1(a): \", np.arcsin(a), '\\n')\n",
    "print(\"Cos^-1(a): \", np.arccos(a), '\\n')\n",
    "print(\"Tan^-1(a): \", np.arctan(a), '\\n')\n",
    "\n",
    "## Exponential e^x\n",
    "print(\"e^a: \", np.exp(a), '\\n')\n",
    "\n",
    "## Famous mathematics equation e^(pi)*i = -1\n",
    "print(\"e^(pi*i): \", np.exp(np.pi * 1j), '\\n')\n",
    "\n",
    "## squareroot\n",
    "print(\"Squareroot(a): \", np.sqrt(a), '\\n')\n",
    "\n",
    "## Logarithm\n",
    "print(\"Natural Log(a) to base e: \", np.log(a), '\\n')\n",
    "print(\"Log(a) to base 10: \", np.log10(a), '\\n')\n",
    "print(\"Log(a) to base 2: \", np.log2(a), '\\n')"
   ]
  },
  {
   "cell_type": "markdown",
   "metadata": {},
   "source": [
    "### Aggregate Functions"
   ]
  },
  {
   "cell_type": "code",
   "execution_count": 26,
   "metadata": {},
   "outputs": [
    {
     "name": "stdout",
     "output_type": "stream",
     "text": [
      "Sum of elements:  45 \n",
      "\n",
      "Max of elements:  9 \n",
      "\n",
      "Min of elements:  1 \n",
      "\n",
      "Mean/Average of elements:  5.0 \n",
      "\n",
      "Median of elements:  5.0 \n",
      "\n",
      "Standard Deviation of elements:  2.581988897471611 \n",
      "\n"
     ]
    }
   ],
   "source": [
    "import numpy as np\n",
    "\n",
    "a = np.array([\n",
    "    [1, 2, 3],\n",
    "    [4, 5, 6],\n",
    "    [7, 8, 9]\n",
    "])\n",
    "\n",
    "## Arithmatic Aggregate\n",
    "print(\"Sum of elements: \", a.sum(), '\\n')\n",
    "print(\"Max of elements: \", a.max(), '\\n')\n",
    "print(\"Min of elements: \", a.min(), '\\n')\n",
    "\n",
    "## Statistical Aggregates\n",
    "print(\"Mean/Average of elements: \", a.mean(), '\\n')\n",
    "print(\"Median of elements: \", np.median(a), '\\n')\n",
    "print(\"Standard Deviation of elements: \", np.std(a), '\\n')"
   ]
  },
  {
   "cell_type": "markdown",
   "metadata": {},
   "source": [
    "### Shape Manipulation "
   ]
  },
  {
   "cell_type": "code",
   "execution_count": 33,
   "metadata": {},
   "outputs": [
    {
     "name": "stdout",
     "output_type": "stream",
     "text": [
      "2x6 shape of array:\n",
      " [[ 1  2  3  4  5  6]\n",
      " [ 7  8  9 10 11 12]] \n",
      "\n",
      "6x2 shape of array:\n",
      " [[ 1  2]\n",
      " [ 3  4]\n",
      " [ 5  6]\n",
      " [ 7  8]\n",
      " [ 9 10]\n",
      " [11 12]] \n",
      "\n",
      "3x4 shape of array:\n",
      " [[ 1  2  3  4]\n",
      " [ 5  6  7  8]\n",
      " [ 9 10 11 12]] \n",
      "\n",
      "4x3 shape of array:\n",
      " [[ 1  2  3]\n",
      " [ 4  5  6]\n",
      " [ 7  8  9]\n",
      " [10 11 12]] \n",
      "\n",
      "2x2x3 shape of array:\n",
      " [[[ 1  2  3]\n",
      "  [ 4  5  6]]\n",
      "\n",
      " [[ 7  8  9]\n",
      "  [10 11 12]]] \n",
      "\n",
      "2x3x2 shape of array:\n",
      " [[[ 1  2]\n",
      "  [ 3  4]\n",
      "  [ 5  6]]\n",
      "\n",
      " [[ 7  8]\n",
      "  [ 9 10]\n",
      "  [11 12]]] \n",
      "\n",
      "Flattened array: \n",
      " [ 1  2  3  4  5  6  7  8  9 10 11 12] \n",
      "\n",
      "Transpose of a:\n",
      " [[ 1  5  9]\n",
      " [ 2  6 10]\n",
      " [ 3  7 11]\n",
      " [ 4  8 12]] \n",
      "\n",
      "Element:  1\n",
      "Element:  2\n",
      "Element:  3\n",
      "Element:  4\n",
      "Element:  5\n",
      "Element:  6\n",
      "Element:  7\n",
      "Element:  8\n",
      "Element:  9\n",
      "Element:  10\n",
      "Element:  11\n",
      "Element:  12\n"
     ]
    }
   ],
   "source": [
    "import numpy as np\n",
    "\n",
    "## Create 3x4 matrix i.e 12 elements\n",
    "a = np.array([\n",
    "    [1, 2, 3, 4],\n",
    "    [5, 6, 7, 8],\n",
    "    [9, 10, 11, 12]\n",
    "])\n",
    "\n",
    "## Reshape\n",
    "print(\"2x6 shape of array:\\n\", a.reshape((2, 6)), '\\n')\n",
    "print(\"6x2 shape of array:\\n\", a.reshape((6, 2)), '\\n')\n",
    "print(\"3x4 shape of array:\\n\", a.reshape((3, 4)), '\\n')\n",
    "print(\"4x3 shape of array:\\n\", a.reshape((4, 3)), '\\n')\n",
    "print(\"2x2x3 shape of array:\\n\", a.reshape((2, 2, 3)), '\\n')\n",
    "print(\"2x3x2 shape of array:\\n\", a.reshape((2, 3, 2)), '\\n')\n",
    "\n",
    "## Flaten to 1D array\n",
    "print('Flattened array: \\n', a.flatten(), '\\n')\n",
    "\n",
    "## Transpose row to column\n",
    "print('Transpose of a:\\n', a.transpose(), '\\n')\n",
    "\n",
    "## Flat Iterator is function which flatten teh array, but it generate flat list for iterations\n",
    "for i in a.flat:\n",
    "    print('Element: ',i)"
   ]
  },
  {
   "cell_type": "markdown",
   "metadata": {},
   "source": [
    "### Joining Arrays"
   ]
  },
  {
   "cell_type": "code",
   "execution_count": 40,
   "metadata": {},
   "outputs": [
    {
     "name": "stdout",
     "output_type": "stream",
     "text": [
      "Concatenate along 1st Dimension: Generated Shape - (6, 4)\n",
      " [[ 1  2  3  4]\n",
      " [ 5  6  7  8]\n",
      " [ 9 10 11 12]\n",
      " [51 52 53 54]\n",
      " [55 56 57 58]\n",
      " [59 60 61 62]] \n",
      "\n",
      "Concatenate along 2nd Dimension: Generated Shape - (3, 8)\n",
      " [[ 1  2  3  4 51 52 53 54]\n",
      " [ 5  6  7  8 55 56 57 58]\n",
      " [ 9 10 11 12 59 60 61 62]] \n",
      "\n",
      "Concatenate along 1st Dimension: Generated Shape - (2, 3, 4)\n",
      " [[[ 1  2  3  4]\n",
      "  [ 5  6  7  8]\n",
      "  [ 9 10 11 12]]\n",
      "\n",
      " [[51 52 53 54]\n",
      "  [55 56 57 58]\n",
      "  [59 60 61 62]]] \n",
      "\n",
      "Horizontal Stack: Generated Shape - (3, 8)\n",
      " [[ 1  2  3  4 51 52 53 54]\n",
      " [ 5  6  7  8 55 56 57 58]\n",
      " [ 9 10 11 12 59 60 61 62]] \n",
      "\n",
      "Vertical Stack: Generated Shape - (6, 4)\n",
      " [[ 1  2  3  4]\n",
      " [ 5  6  7  8]\n",
      " [ 9 10 11 12]\n",
      " [51 52 53 54]\n",
      " [55 56 57 58]\n",
      " [59 60 61 62]] \n",
      "\n"
     ]
    }
   ],
   "source": [
    "import numpy as np\n",
    "\n",
    "a = np.array([\n",
    "    [1, 2, 3, 4],\n",
    "    [5, 6, 7, 8],\n",
    "    [9, 10, 11, 12]\n",
    "])\n",
    "\n",
    "b = np.array([\n",
    "    [51, 52, 53, 54],\n",
    "    [55, 56, 57, 58],\n",
    "    [59, 60, 61, 62]\n",
    "])\n",
    "\n",
    "## Concatenate\n",
    "c1 = np.concatenate((a, b))\n",
    "print(f\"Concatenate along 1st Dimension: Generated Shape - {c1.shape}\\n {c1} \\n\")\n",
    "\n",
    "c2 = np.concatenate((a, b), axis = 1)\n",
    "print(f\"Concatenate along 2nd Dimension: Generated Shape - {c2.shape}\\n {c2} \\n\")\n",
    "\n",
    "c3 = np.stack((a, b))\n",
    "print(f\"Concatenate along 1st Dimension: Generated Shape - {c3.shape}\\n {c3} \\n\")\n",
    "\n",
    "## Horizontal stack is same as concatenation on 2nd Dimension\n",
    "c4 = np.hstack((a, b))\n",
    "print(f\"Horizontal Stack: Generated Shape - {c4.shape}\\n {c4} \\n\")\n",
    "\n",
    "## Vertical Stack is same as Concatenation along 1st Dimension\n",
    "c5 = np.vstack((a, b))\n",
    "print(f\"Vertical Stack: Generated Shape - {c5.shape}\\n {c5} \\n\")"
   ]
  },
  {
   "cell_type": "markdown",
   "metadata": {},
   "source": [
    "### Splitting Array"
   ]
  },
  {
   "cell_type": "code",
   "execution_count": 48,
   "metadata": {},
   "outputs": [
    {
     "name": "stdout",
     "output_type": "stream",
     "text": [
      "Divided in 4 on 1st dimension - Array 1: \n",
      "[[1 2 3 4]]\n",
      "\n",
      "Divided in 4 on 1st dimension - Array 2: \n",
      "[[5 6 7 8]]\n",
      "\n",
      "Divided in 4 on 1st dimension - Array 3: \n",
      "[[ 9 10 11 12]]\n",
      "\n",
      "Divided in 4 on 1st dimension - Array 4: \n",
      "[[13 14 15 16]]\n",
      "\n",
      "Divided in 2 on 1st dimension - Array 1: \n",
      "[[1 2 3 4]\n",
      " [5 6 7 8]]\n",
      "\n",
      "Divided in 2 on 1st dimension - Array 2: \n",
      "[[ 9 10 11 12]\n",
      " [13 14 15 16]]\n",
      "\n",
      "Divided in 4 on 2nd dimension- Array 1: \n",
      "[[ 1]\n",
      " [ 5]\n",
      " [ 9]\n",
      " [13]]\n",
      "\n",
      "Divided in 4 on 2nd dimension- Array 2: \n",
      "[[ 2]\n",
      " [ 6]\n",
      " [10]\n",
      " [14]]\n",
      "\n",
      "Divided in 4 on 2nd dimension- Array 3: \n",
      "[[ 3]\n",
      " [ 7]\n",
      " [11]\n",
      " [15]]\n",
      "\n",
      "Divided in 4 on 2nd dimension- Array 4: \n",
      "[[ 4]\n",
      " [ 8]\n",
      " [12]\n",
      " [16]]\n",
      "\n",
      "Divided in 2 on 2nd dimension- Array 1: \n",
      "[[ 1  2]\n",
      " [ 5  6]\n",
      " [ 9 10]\n",
      " [13 14]]\n",
      "\n",
      "Divided in 2 on 2nd dimension- Array 2: \n",
      "[[ 3  4]\n",
      " [ 7  8]\n",
      " [11 12]\n",
      " [15 16]]\n",
      "\n",
      "Horizontally Divided in 4- Array 1: \n",
      "[[ 1]\n",
      " [ 5]\n",
      " [ 9]\n",
      " [13]]\n",
      "\n",
      "Horizontally Divided in 4- Array 2: \n",
      "[[ 2]\n",
      " [ 6]\n",
      " [10]\n",
      " [14]]\n",
      "\n",
      "Horizontally Divided in 4- Array 3: \n",
      "[[ 3]\n",
      " [ 7]\n",
      " [11]\n",
      " [15]]\n",
      "\n",
      "Horizontally Divided in 4- Array 4: \n",
      "[[ 4]\n",
      " [ 8]\n",
      " [12]\n",
      " [16]]\n",
      "\n"
     ]
    }
   ],
   "source": [
    "import numpy as np\n",
    "\n",
    "a = np.array([\n",
    "    [1, 2, 3, 4],\n",
    "    [5, 6, 7, 8],\n",
    "    [9, 10, 11, 12],\n",
    "    [13, 14, 15, 16]\n",
    "])\n",
    "\n",
    "## Split method divide array in number of equal parts as given\n",
    "for i, an in enumerate(np.split(a, 4)):\n",
    "    print(f\"Divided in 4 on 1st dimension - Array {i+1}: \\n{an}\\n\")\n",
    "    \n",
    "for i, an in enumerate(np.split(a, 2)):\n",
    "    print(f\"Divided in 2 on 1st dimension - Array {i+1}: \\n{an}\\n\")\n",
    "    \n",
    "for i, an in enumerate(np.split(a, 4, axis = 1)):\n",
    "    print(f\"Divided in 4 on 2nd dimension- Array {i+1}: \\n{an}\\n\")\n",
    "    \n",
    "for i, an in enumerate(np.split(a, 2, axis = 1)):\n",
    "    print(f\"Divided in 2 on 2nd dimension- Array {i+1}: \\n{an}\\n\")\n",
    "    \n",
    "## Horizontal split is same as splitting on 2nd Dimension\n",
    "for i, an in enumerate(np.hsplit(a, 4)):\n",
    "    print(f\"Horizontally Divided in 4- Array {i+1}: \\n{an}\\n\")"
   ]
  },
  {
   "cell_type": "markdown",
   "metadata": {},
   "source": [
    "### Adding values, row to Array"
   ]
  },
  {
   "cell_type": "code",
   "execution_count": 2,
   "metadata": {},
   "outputs": [
    {
     "name": "stdout",
     "output_type": "stream",
     "text": [
      "Append without changing dimensions: \n",
      "[ 1  2  3  4  5  6  7  8  9 10 11 12 13 14 15 16 21 22 23 24]\n",
      "\n",
      "Append without changing dimensions: \n",
      "[[ 1  2  3  4]\n",
      " [ 5  6  7  8]\n",
      " [ 9 10 11 12]\n",
      " [13 14 15 16]\n",
      " [21 22 23 24]]\n",
      "\n",
      "Insert row in index 1: \n",
      "[[ 1  2  3  4]\n",
      " [21 22 23 24]\n",
      " [ 5  6  7  8]\n",
      " [ 9 10 11 12]\n",
      " [13 14 15 16]]\n",
      "\n",
      "Insert column in index 1: \n",
      "[[ 1 21  2  3  4]\n",
      " [ 5 22  6  7  8]\n",
      " [ 9 23 10 11 12]\n",
      " [13 24 14 15 16]]\n",
      "\n"
     ]
    }
   ],
   "source": [
    "import numpy as np\n",
    "\n",
    "a = np.array([\n",
    "    [1, 2, 3, 4],\n",
    "    [5, 6, 7, 8],\n",
    "    [9, 10, 11, 12],\n",
    "    [13, 14, 15, 16]\n",
    "])\n",
    "\n",
    "b = [21, 22, 23, 24]\n",
    "\n",
    "## Here a is 4x4 array with dimension 2 and b is 1x4 array with dimension 1\n",
    "## So when we append b to a, numpy has to flatten the a\n",
    "print(f'Append without changing dimensions: \\n{np.append(a, b)}\\n')\n",
    "\n",
    "## So in order to append correctly, b should be same dimension as a\n",
    "## and we achieve this by surrounding b in brackets [b]\n",
    "print(f'Append without changing dimensions: \\n{np.append(a, [b], axis = 0)}\\n')\n",
    "\n",
    "## Or add to particular index using insert method\n",
    "print(f\"Insert row in index 1: \\n{np.insert(a, 1, b, axis = 0)}\\n\")\n",
    "\n",
    "## Column can be added using axis\n",
    "print(f\"Insert column in index 1: \\n{np.insert(a, 1, b, axis = 1)}\\n\")"
   ]
  }
 ],
 "metadata": {
  "kernelspec": {
   "display_name": "Python 3",
   "language": "python",
   "name": "python3"
  },
  "language_info": {
   "codemirror_mode": {
    "name": "ipython",
    "version": 3
   },
   "file_extension": ".py",
   "mimetype": "text/x-python",
   "name": "python",
   "nbconvert_exporter": "python",
   "pygments_lexer": "ipython3",
   "version": "3.8.2"
  }
 },
 "nbformat": 4,
 "nbformat_minor": 2
}
