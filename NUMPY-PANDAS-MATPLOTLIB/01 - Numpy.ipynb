{
 "cells": [
  {
   "cell_type": "markdown",
   "metadata": {},
   "source": [
    "## Numpy Array\n",
    "### Creating 1D Array"
   ]
  },
  {
   "cell_type": "code",
   "execution_count": 8,
   "metadata": {},
   "outputs": [
    {
     "name": "stdout",
     "output_type": "stream",
     "text": [
      "[1 2 3 4 5] \n",
      "\n",
      "2\n"
     ]
    }
   ],
   "source": [
    "import numpy as np\n",
    "\n",
    "## Normal Array\n",
    "a = [1, 2, 3, 4, 5]\n",
    "\n",
    "## Numpy Array\n",
    "b = np.array([1, 2, 3, 4, 5])\n",
    "\n",
    "## Display Array\n",
    "print(b, '\\n')\n",
    "\n",
    "## Individual element access\n",
    "print(b[1])\n"
   ]
  },
  {
   "cell_type": "markdown",
   "metadata": {},
   "source": [
    "### Multi-Dimensional Array"
   ]
  },
  {
   "cell_type": "code",
   "execution_count": 9,
   "metadata": {},
   "outputs": [
    {
     "name": "stdout",
     "output_type": "stream",
     "text": [
      "[[1 2 3]\n",
      " [4 5 6]\n",
      " [7 8 9]] \n",
      "\n",
      "[4 5 6] \n",
      "\n",
      "8\n"
     ]
    }
   ],
   "source": [
    "import numpy as np\n",
    "\n",
    "a = np.array([\n",
    "    [1, 2, 3],\n",
    "    [4, 5, 6],\n",
    "    [7, 8, 9]\n",
    "])\n",
    "\n",
    "## Display Array\n",
    "print(a, '\\n')\n",
    "\n",
    "## Access Individual Element\n",
    "print(a[1], '\\n')\n",
    "print(a[2][1])"
   ]
  },
  {
   "cell_type": "markdown",
   "metadata": {},
   "source": [
    "### Getting dimension / Shape if Array"
   ]
  },
  {
   "cell_type": "code",
   "execution_count": 45,
   "metadata": {},
   "outputs": [
    {
     "name": "stdout",
     "output_type": "stream",
     "text": [
      "Dimension of a: 1 \n",
      "\n",
      "Dimension of b: 2 \n",
      "\n",
      "Shape of a: (5,) \n",
      "\n",
      "Shape of b: (3, 3) \n",
      "\n",
      "Dimension of c: 1 \n",
      "\n",
      "Shape of c: (2,)\n"
     ]
    }
   ],
   "source": [
    "import numpy as np\n",
    "\n",
    "a = np.array([1, 2, 3, 4, 5])\n",
    "b = np.array([\n",
    "    [1, 2, 3],\n",
    "    [4, 5, 6],\n",
    "    [7, 8, 9]\n",
    "])\n",
    "c = np.array([\n",
    "    [\n",
    "        [1, 2, 3],\n",
    "        [4, 5, 6]\n",
    "    ],[\n",
    "        [10, 20],\n",
    "        [30, 40],\n",
    "        [50, 60]\n",
    "    ]\n",
    "])\n",
    "## Show Dimension\n",
    "## Gives depth/max dimension\n",
    "print('Dimension of a:',a.ndim, '\\n')\n",
    "print('Dimension of b:',b.ndim, '\\n')\n",
    "\n",
    "## Gives Shape\n",
    "print('Shape of a:',a.shape, '\\n')\n",
    "print('Shape of b:',b.shape, '\\n')\n",
    "\n",
    "## If all dimensions are not fully filled regularly, then numpy does not show dimension / shape\n",
    "print('Dimension of c:',c.ndim, '\\n')\n",
    "print('Shape of c:',c.shape)"
   ]
  },
  {
   "cell_type": "markdown",
   "metadata": {},
   "source": [
    "### Getting number of elements in Array"
   ]
  },
  {
   "cell_type": "code",
   "execution_count": 46,
   "metadata": {},
   "outputs": [
    {
     "name": "stdout",
     "output_type": "stream",
     "text": [
      "5 \n",
      "\n",
      "9\n"
     ]
    }
   ],
   "source": [
    "import numpy as np\n",
    "\n",
    "a = np.array([1, 2, 3, 4, 5])\n",
    "b = np.array([\n",
    "    [1, 2, 3],\n",
    "    [4, 5, 6],\n",
    "    [7, 8, 9]\n",
    "])\n",
    "\n",
    "## Get number of elements\n",
    "print(a.size, '\\n')\n",
    "print(b.size)"
   ]
  },
  {
   "cell_type": "markdown",
   "metadata": {},
   "source": [
    "### Data Type of elements in Array"
   ]
  },
  {
   "cell_type": "code",
   "execution_count": 49,
   "metadata": {},
   "outputs": [
    {
     "name": "stdout",
     "output_type": "stream",
     "text": [
      "float64\n",
      "int64\n",
      "float64\n"
     ]
    }
   ],
   "source": [
    "import numpy as np\n",
    "a = np.array([1.2, 2.3, 3.4, 4.5, 5.6])\n",
    "b = np.array([\n",
    "    [1, 2, 3],\n",
    "    [4, 5, 6],\n",
    "    [7, 8, 9]\n",
    "])\n",
    "c = np.array([\n",
    "    [1, 2, 3],\n",
    "    [4, 5, 6],\n",
    "    [7, 8, 9]\n",
    "], dtype = float)\n",
    "\n",
    "## Print Data Types of Elements\n",
    "print(a.dtype)\n",
    "print(b.dtype)\n",
    "\n",
    "## Data type can be defined while defining array as done for c\n",
    "print(c.dtype)"
   ]
  },
  {
   "cell_type": "markdown",
   "metadata": {},
   "source": [
    "### Mathematical operations\n",
    "Mathematical operation on Numpy array is propagated to its elements unlike normal list where it change list length"
   ]
  },
  {
   "cell_type": "code",
   "execution_count": 28,
   "metadata": {},
   "outputs": [
    {
     "name": "stdout",
     "output_type": "stream",
     "text": [
      "Add Normal List: [1, 2, 3, 4, 5, 6, 7, 8, 9, 0] \n",
      "\n",
      "Add Numpy Array:  [ 7  9 11 13  5] \n",
      "\n",
      "Add Constant to Numpy Array: [3 4 5 6 7] \n",
      "\n",
      "List * constant: [1, 2, 3, 4, 5, 1, 2, 3, 4, 5] \n",
      "\n",
      "Numpy Array * Constant: [ 2  4  6  8 10] \n",
      "\n",
      "Numpy Array ** 3: [  1   8  27  64 125]\n"
     ]
    }
   ],
   "source": [
    "import numpy as np\n",
    "\n",
    "## Normal List\n",
    "a = [1, 2, 3, 4, 5]\n",
    "b = [6, 7, 8, 9, 0]\n",
    "\n",
    "## Numpy Array\n",
    "c = np.array([1, 2, 3, 4, 5])\n",
    "d = np.array([6, 7, 8, 9, 0])\n",
    "\n",
    "## Output\n",
    "print('Add Normal List:', a + b, '\\n')\n",
    "\n",
    "## Add Numpy Arrays\n",
    "print('Add Numpy Array: ', c + d, '\\n')\n",
    "\n",
    "## Add Numpy array with Constant\n",
    "print('Add Constant to Numpy Array:', 2 + c, '\\n')\n",
    "\n",
    "## Multiply List with constant number increase list length\n",
    "print('List * constant:', a * 2, '\\n')\n",
    "\n",
    "## Multiply Numpy arrays with constant number\n",
    "print('Numpy Array * Constant:', c * 2, '\\n')\n",
    "\n",
    "## Power on Numpy Array\n",
    "print('Numpy Array ** 3:', c ** 3)"
   ]
  },
  {
   "cell_type": "markdown",
   "metadata": {},
   "source": [
    "### Zeros and Ones Matrix\n",
    "Create matrix of all zeros/ones for the given shape"
   ]
  },
  {
   "cell_type": "code",
   "execution_count": 17,
   "metadata": {},
   "outputs": [
    {
     "name": "stdout",
     "output_type": "stream",
     "text": [
      "[[0. 0. 0. 0.]\n",
      " [0. 0. 0. 0.]\n",
      " [0. 0. 0. 0.]] \n",
      "\n",
      "[[1. 1. 1.]\n",
      " [1. 1. 1.]\n",
      " [1. 1. 1.]\n",
      " [1. 1. 1.]]\n"
     ]
    }
   ],
   "source": [
    "import numpy as np\n",
    "\n",
    "## Fill 3x4 array with 0s\n",
    "a = np.zeros((3, 4))\n",
    "\n",
    "## Fill 4x3 array with 1s\n",
    "b = np.ones((4, 3))\n",
    "\n",
    "print(a, '\\n')\n",
    "print(b)"
   ]
  },
  {
   "cell_type": "markdown",
   "metadata": {},
   "source": [
    "### Custom Number full array\n",
    "Create matrix of all the values filled with given number for provided shape"
   ]
  },
  {
   "cell_type": "code",
   "execution_count": 18,
   "metadata": {},
   "outputs": [
    {
     "name": "stdout",
     "output_type": "stream",
     "text": [
      "[[4 4 4 4 4]\n",
      " [4 4 4 4 4]\n",
      " [4 4 4 4 4]]\n"
     ]
    }
   ],
   "source": [
    "import numpy as np\n",
    "\n",
    "## Fill 3x5 array with 4s\n",
    "a = np.full((3, 5), 4)\n",
    "\n",
    "print(a)"
   ]
  },
  {
   "cell_type": "markdown",
   "metadata": {},
   "source": [
    "### Empty Matrix\n",
    "Create matrix of provided shape with uninitialized values. Usually the values will look like junk."
   ]
  },
  {
   "cell_type": "code",
   "execution_count": 20,
   "metadata": {},
   "outputs": [
    {
     "name": "stdout",
     "output_type": "stream",
     "text": [
      "[[4.64484131e-310 0.00000000e+000 0.00000000e+000 0.00000000e+000\n",
      "  0.00000000e+000 0.00000000e+000 0.00000000e+000]\n",
      " [0.00000000e+000 0.00000000e+000 0.00000000e+000 0.00000000e+000\n",
      "  0.00000000e+000 0.00000000e+000 0.00000000e+000]]\n"
     ]
    }
   ],
   "source": [
    "import numpy as np\n",
    "\n",
    "## Create empty matrix\n",
    "a = np.empty((2, 7))\n",
    "\n",
    "print(a)"
   ]
  },
  {
   "cell_type": "markdown",
   "metadata": {},
   "source": [
    "### Random Number\n",
    "Create a matrix of given shape with random number $0 \\le n \\le 1$"
   ]
  },
  {
   "cell_type": "code",
   "execution_count": 21,
   "metadata": {},
   "outputs": [
    {
     "name": "stdout",
     "output_type": "stream",
     "text": [
      "[[0.81830402 0.40728714 0.1661629  0.78176017 0.69523874 0.0474638 ]\n",
      " [0.31860297 0.04720085 0.53592058 0.78717893 0.73634145 0.02407926]\n",
      " [0.55849112 0.36377059 0.29023907 0.17318162 0.57651734 0.85867694]]\n"
     ]
    }
   ],
   "source": [
    "import numpy as np\n",
    "\n",
    "## 3x6 matrix of random numbers\n",
    "a = np.random.random((3, 6))\n",
    "\n",
    "print(a)"
   ]
  },
  {
   "cell_type": "markdown",
   "metadata": {},
   "source": [
    "### Range of values\n",
    "create a vector / 1D array for given start and end with step"
   ]
  },
  {
   "cell_type": "code",
   "execution_count": 37,
   "metadata": {},
   "outputs": [
    {
     "name": "stdout",
     "output_type": "stream",
     "text": [
      "[ 0  5 10 15 20 25 30 35 40 45 50]\n",
      "[ 0.  5. 10. 15. 20. 25. 30. 35. 40. 45. 50.]\n"
     ]
    }
   ],
   "source": [
    "import numpy as np\n",
    "\n",
    "## Vector starting 0 to 50 with step of 5 excluing higher limit\n",
    "a = np.arange(0, 51, 5)\n",
    "\n",
    "## Linspace generate n number of evenly spaced values between the given range including higher limit\n",
    "b = np.linspace(0, 50, 11)\n",
    "\n",
    "print(a)\n",
    "print(b)"
   ]
  },
  {
   "cell_type": "markdown",
   "metadata": {},
   "source": [
    "### Equations with Numpy"
   ]
  },
  {
   "cell_type": "code",
   "execution_count": 33,
   "metadata": {},
   "outputs": [
    {
     "name": "stdout",
     "output_type": "stream",
     "text": [
      "[   0   35  120  255  440  675  960 1295 1680 2115 2600] \n",
      "\n",
      "[ 0.         -0.95892427 -0.54402111  0.65028784  0.91294525 -0.13235175\n",
      " -0.98803162 -0.42818267  0.74511316  0.85090352 -0.26237485]\n"
     ]
    }
   ],
   "source": [
    "import numpy as np\n",
    "\n",
    "## X Co-ordinates\n",
    "x = np.arange(0, 51, 5)\n",
    "y1 = x**2 + 2*x  ## Y = X^2 + 2X\n",
    "y2 = np.sin(x)   ## Y = Sin(X)\n",
    "\n",
    "print(y1, '\\n')\n",
    "print(y2)"
   ]
  },
  {
   "cell_type": "code",
   "execution_count": null,
   "metadata": {},
   "outputs": [],
   "source": []
  }
 ],
 "metadata": {
  "kernelspec": {
   "display_name": "Python 3",
   "language": "python",
   "name": "python3"
  },
  "language_info": {
   "codemirror_mode": {
    "name": "ipython",
    "version": 3
   },
   "file_extension": ".py",
   "mimetype": "text/x-python",
   "name": "python",
   "nbconvert_exporter": "python",
   "pygments_lexer": "ipython3",
   "version": "3.8.2"
  }
 },
 "nbformat": 4,
 "nbformat_minor": 2
}
