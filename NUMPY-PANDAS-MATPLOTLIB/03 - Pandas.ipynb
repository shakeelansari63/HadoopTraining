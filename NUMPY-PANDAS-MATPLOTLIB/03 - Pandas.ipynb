{
 "cells": [
  {
   "cell_type": "markdown",
   "metadata": {},
   "source": [
    "## Pandas Series\n",
    "Series is 2 column Daat structure much like a key value pair"
   ]
  },
  {
   "cell_type": "code",
   "execution_count": 34,
   "metadata": {},
   "outputs": [
    {
     "name": "stdout",
     "output_type": "stream",
     "text": [
      "My Series: \n",
      "a    10\n",
      "b    20\n",
      "c    30\n",
      "d    40\n",
      "e    50\n",
      "dtype: int64\n",
      "\n",
      "C value is: 30\n",
      "\n",
      "Value at Position 2 is: 30\n",
      "\n",
      "Series with name is: \n",
      "a    10\n",
      "b    20\n",
      "c    30\n",
      "d    40\n",
      "e    50\n",
      "Name: My Series, dtype: int64\n",
      "\n",
      "Dictionary from series: {'a': 10, 'b': 20, 'c': 30, 'd': 40, 'e': 50}\n"
     ]
    }
   ],
   "source": [
    "import pandas as pd\n",
    "\n",
    "series = pd.Series([10, 20, 30, 40, 50]\n",
    "                   , index = ['a', 'b', 'c', 'd', 'e']) ## 1st parm is Values and 2nd parm is index/key\n",
    "\n",
    "## Print whole series as table\n",
    "print(f\"My Series: \\n{series}\")\n",
    "\n",
    "## Individual element can be accessed similar to dictionary access\n",
    "print(f\"\\nC value is: {series['c']}\")\n",
    "\n",
    "## Elements can also be accessed by integer index\n",
    "print(f\"\\nValue at Position 2 is: {series.iloc[2]}\")\n",
    "\n",
    "## Series can be given Name much like table name\n",
    "series.name = \"My Series\"\n",
    "print(f\"\\nSeries with name is: \\n{series}\")\n",
    "\n",
    "## Series can be easily coverted to dictionary\n",
    "print(f\"\\nDictionary from series: {dict(series)}\")"
   ]
  },
  {
   "cell_type": "markdown",
   "metadata": {},
   "source": [
    "### Series Operations"
   ]
  },
  {
   "cell_type": "code",
   "execution_count": 35,
   "metadata": {},
   "outputs": [
    {
     "name": "stdout",
     "output_type": "stream",
     "text": [
      "Sum of Series: \n",
      "a     90\n",
      "b    110\n",
      "c    130\n",
      "d    100\n",
      "e    120\n",
      "dtype: int64\n",
      "\n",
      "Top 3 items: \n",
      "a    10\n",
      "b    20\n",
      "c    30\n",
      "dtype: int64\n",
      "\n",
      "Bottom 3 items: \n",
      "c    30\n",
      "d    40\n",
      "e    50\n",
      "dtype: int64\n",
      "\n",
      "Total items: 5\n",
      "\n"
     ]
    }
   ],
   "source": [
    "import pandas as pd\n",
    "\n",
    "s1 = pd.Series([10, 20, 30, 40, 50], index = ['a', 'b', 'c', 'd', 'e'])\n",
    "s2 = pd.Series([100, 90, 80, 60, 70], index = ['c', 'b', 'a', 'd', 'e'])\n",
    "\n",
    "## Series with same indices can be used for mathematical operations\n",
    "print(f\"Sum of Series: \\n{s1 + s2}\\n\")\n",
    "\n",
    "## We can perform other functions on series which cannot be done on Dictionary\n",
    "print(f\"Top 3 items: \\n{s1.head(3)}\\n\")\n",
    "print(f\"Bottom 3 items: \\n{s1.tail(3)}\\n\")\n",
    "print(f\"Total items: {s1.count()}\\n\")"
   ]
  },
  {
   "cell_type": "markdown",
   "metadata": {},
   "source": [
    "### Series Manipulation"
   ]
  },
  {
   "cell_type": "code",
   "execution_count": 36,
   "metadata": {},
   "outputs": [
    {
     "name": "stdout",
     "output_type": "stream",
     "text": [
      "Square of each element: \n",
      "a     100\n",
      "b     400\n",
      "c     900\n",
      "d    1600\n",
      "e    2500\n",
      "dtype: int64\n",
      "\n",
      "Sorted by Index: \n",
      "a     80\n",
      "b     90\n",
      "c    100\n",
      "d     60\n",
      "e     70\n",
      "dtype: int64\n",
      "\n",
      "Sorted by Value \n",
      "d     60\n",
      "e     70\n",
      "a     80\n",
      "b     90\n",
      "c    100\n",
      "dtype: int64\n",
      "\n",
      "Sorted by Index inplace: \n",
      "a     80\n",
      "b     90\n",
      "c    100\n",
      "d     60\n",
      "e     70\n",
      "dtype: int64\n",
      "\n"
     ]
    }
   ],
   "source": [
    "import pandas as pd\n",
    "\n",
    "s1 = pd.Series([10, 20, 30, 40, 50], index = ['a', 'b', 'c', 'd', 'e'])\n",
    "s2 = pd.Series([100, 90, 80, 60, 70], index = ['c', 'b', 'a', 'd', 'e'])\n",
    "\n",
    "## A function can be applied on all objects in series using apply\n",
    "print(f\"Square of each element: \\n{s1.apply(lambda x: x**2)}\\n\")\n",
    "\n",
    "## Sorting\n",
    "print(f\"Sorted by Index: \\n{s2.sort_index()}\\n\")\n",
    "print(f\"Sorted by Value \\n{s2.sort_values()}\\n\")\n",
    "\n",
    "## But the sorting does not apply to actual series, to apply changes to series, use inplace\n",
    "s2.sort_index(inplace = True)\n",
    "print(f\"Sorted by Index inplace: \\n{s2}\\n\")"
   ]
  },
  {
   "cell_type": "markdown",
   "metadata": {},
   "source": [
    "### Visualizing Series\n",
    "Pandas internally uses matplotlib to visualize data. We do not plot points using matplot lib, but matplotlib is needed to show the plots."
   ]
  },
  {
   "cell_type": "code",
   "execution_count": 37,
   "metadata": {},
   "outputs": [
    {
     "data": {
      "image/png": "[encoded data removed]",
      "text/plain": [
       "<Figure size 432x288 with 1 Axes>"
      ]
     },
     "metadata": {
      "needs_background": "light"
     },
     "output_type": "display_data"
    }
   ],
   "source": [
    "import pandas as pd\n",
    "import matplotlib.pyplot as plt\n",
    "\n",
    "s1 = pd.Series([10, 20, 30, 40, 50], index = ['a', 'b', 'c', 'd', 'e'])\n",
    "s2 = pd.Series([100, 90, 80, 60, 70], index = ['c', 'b', 'a', 'd', 'e'])\n",
    "\n",
    "s1.plot(label = \"s1\")\n",
    "s2.plot(label = \"s2\")\n",
    "plt.legend()\n",
    "plt.show()"
   ]
  },
  {
   "cell_type": "markdown",
   "metadata": {},
   "source": [
    "Other plots can also be done in pandas"
   ]
  },
  {
   "cell_type": "code",
   "execution_count": 38,
   "metadata": {},
   "outputs": [
    {
     "data": {
      "image/png": "[encoded data removed]",
      "text/plain": [
       "<Figure size 432x288 with 1 Axes>"
      ]
     },
     "metadata": {
      "needs_background": "light"
     },
     "output_type": "display_data"
    }
   ],
   "source": [
    "import pandas as pd\n",
    "import matplotlib.pyplot as plt\n",
    "\n",
    "s1 = pd.Series([10, 20, 30, 40, 50], index = ['a', 'b', 'c', 'd', 'e'])\n",
    "s2 = pd.Series([100, 90, 80, 60, 70], index = ['c', 'b', 'a', 'd', 'e'])\n",
    "\n",
    "s2.plot.bar()\n",
    "plt.show()"
   ]
  },
  {
   "cell_type": "markdown",
   "metadata": {},
   "source": [
    "### Exporting Series\n",
    "Series can be exported to many different sources like To CSV, To SQL Database, To Excel etc"
   ]
  },
  {
   "cell_type": "code",
   "execution_count": 39,
   "metadata": {},
   "outputs": [
    {
     "name": "stdout",
     "output_type": "stream",
     "text": [
      "{\"a\":121,\"b\":441,\"c\":961,\"d\":1681,\"e\":2601}\n",
      ",0\n",
      "a,121\n",
      "b,441\n",
      "c,961\n",
      "d,1681\n",
      "e,2601\n",
      "\n"
     ]
    }
   ],
   "source": [
    "import pandas as pd\n",
    "\n",
    "s1 = pd.Series([10, 20, 30, 40, 50], index = ['a', 'b', 'c', 'd', 'e'])\n",
    "s2 = s1.apply(lambda x: x**2 + 2*x +1)\n",
    "\n",
    "print(s2.to_json())\n",
    "print(s2.to_csv())"
   ]
  }
 ],
 "metadata": {
  "kernelspec": {
   "display_name": "Python 3",
   "language": "python",
   "name": "python3"
  },
  "language_info": {
   "codemirror_mode": {
    "name": "ipython",
    "version": 3
   },
   "file_extension": ".py",
   "mimetype": "text/x-python",
   "name": "python",
   "nbconvert_exporter": "python",
   "pygments_lexer": "ipython3",
   "version": "3.8.2"
  }
 },
 "nbformat": 4,
 "nbformat_minor": 2
}
