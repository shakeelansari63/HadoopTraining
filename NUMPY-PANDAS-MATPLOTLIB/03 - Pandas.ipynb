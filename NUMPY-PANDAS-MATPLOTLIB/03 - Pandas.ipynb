{
 "cells": [
  {
   "cell_type": "markdown",
   "metadata": {},
   "source": [
    "## Pandas Series\n",
    "Series is 2 column Daat structure much like a key value pair"
   ]
  },
  {
   "cell_type": "code",
   "execution_count": 34,
   "metadata": {},
   "outputs": [
    {
     "name": "stdout",
     "output_type": "stream",
     "text": [
      "My Series: \n",
      "a    10\n",
      "b    20\n",
      "c    30\n",
      "d    40\n",
      "e    50\n",
      "dtype: int64\n",
      "\n",
      "C value is: 30\n",
      "\n",
      "Value at Position 2 is: 30\n",
      "\n",
      "Series with name is: \n",
      "a    10\n",
      "b    20\n",
      "c    30\n",
      "d    40\n",
      "e    50\n",
      "Name: My Series, dtype: int64\n",
      "\n",
      "Dictionary from series: {'a': 10, 'b': 20, 'c': 30, 'd': 40, 'e': 50}\n"
     ]
    }
   ],
   "source": [
    "import pandas as pd\n",
    "\n",
    "series = pd.Series([10, 20, 30, 40, 50]\n",
    "                   , index = ['a', 'b', 'c', 'd', 'e']) ## 1st parm is Values and 2nd parm is index/key\n",
    "\n",
    "## Print whole series as table\n",
    "print(f\"My Series: \\n{series}\")\n",
    "\n",
    "## Individual element can be accessed similar to dictionary access\n",
    "print(f\"\\nC value is: {series['c']}\")\n",
    "\n",
    "## Elements can also be accessed by integer index\n",
    "print(f\"\\nValue at Position 2 is: {series.iloc[2]}\")\n",
    "\n",
    "## Series can be given Name much like table name\n",
    "series.name = \"My Series\"\n",
    "print(f\"\\nSeries with name is: \\n{series}\")\n",
    "\n",
    "## Series can be easily coverted to dictionary\n",
    "print(f\"\\nDictionary from series: {dict(series)}\")"
   ]
  },
  {
   "cell_type": "markdown",
   "metadata": {},
   "source": [
    "### Series Operations"
   ]
  },
  {
   "cell_type": "code",
   "execution_count": 35,
   "metadata": {},
   "outputs": [
    {
     "name": "stdout",
     "output_type": "stream",
     "text": [
      "Sum of Series: \n",
      "a     90\n",
      "b    110\n",
      "c    130\n",
      "d    100\n",
      "e    120\n",
      "dtype: int64\n",
      "\n",
      "Top 3 items: \n",
      "a    10\n",
      "b    20\n",
      "c    30\n",
      "dtype: int64\n",
      "\n",
      "Bottom 3 items: \n",
      "c    30\n",
      "d    40\n",
      "e    50\n",
      "dtype: int64\n",
      "\n",
      "Total items: 5\n",
      "\n"
     ]
    }
   ],
   "source": [
    "import pandas as pd\n",
    "\n",
    "s1 = pd.Series([10, 20, 30, 40, 50], index = ['a', 'b', 'c', 'd', 'e'])\n",
    "s2 = pd.Series([100, 90, 80, 60, 70], index = ['c', 'b', 'a', 'd', 'e'])\n",
    "\n",
    "## Series with same indices can be used for mathematical operations\n",
    "print(f\"Sum of Series: \\n{s1 + s2}\\n\")\n",
    "\n",
    "## We can perform other functions on series which cannot be done on Dictionary\n",
    "print(f\"Top 3 items: \\n{s1.head(3)}\\n\")\n",
    "print(f\"Bottom 3 items: \\n{s1.tail(3)}\\n\")\n",
    "print(f\"Total items: {s1.count()}\\n\")"
   ]
  },
  {
   "cell_type": "markdown",
   "metadata": {},
   "source": [
    "### Series Manipulation"
   ]
  },
  {
   "cell_type": "code",
   "execution_count": 36,
   "metadata": {},
   "outputs": [
    {
     "name": "stdout",
     "output_type": "stream",
     "text": [
      "Square of each element: \n",
      "a     100\n",
      "b     400\n",
      "c     900\n",
      "d    1600\n",
      "e    2500\n",
      "dtype: int64\n",
      "\n",
      "Sorted by Index: \n",
      "a     80\n",
      "b     90\n",
      "c    100\n",
      "d     60\n",
      "e     70\n",
      "dtype: int64\n",
      "\n",
      "Sorted by Value \n",
      "d     60\n",
      "e     70\n",
      "a     80\n",
      "b     90\n",
      "c    100\n",
      "dtype: int64\n",
      "\n",
      "Sorted by Index inplace: \n",
      "a     80\n",
      "b     90\n",
      "c    100\n",
      "d     60\n",
      "e     70\n",
      "dtype: int64\n",
      "\n"
     ]
    }
   ],
   "source": [
    "import pandas as pd\n",
    "\n",
    "s1 = pd.Series([10, 20, 30, 40, 50], index = ['a', 'b', 'c', 'd', 'e'])\n",
    "s2 = pd.Series([100, 90, 80, 60, 70], index = ['c', 'b', 'a', 'd', 'e'])\n",
    "\n",
    "## A function can be applied on all objects in series using apply\n",
    "print(f\"Square of each element: \\n{s1.apply(lambda x: x**2)}\\n\")\n",
    "\n",
    "## Sorting\n",
    "print(f\"Sorted by Index: \\n{s2.sort_index()}\\n\")\n",
    "print(f\"Sorted by Value \\n{s2.sort_values()}\\n\")\n",
    "\n",
    "## But the sorting does not apply to actual series, to apply changes to series, use inplace\n",
    "s2.sort_index(inplace = True)\n",
    "print(f\"Sorted by Index inplace: \\n{s2}\\n\")"
   ]
  },
  {
   "cell_type": "markdown",
   "metadata": {},
   "source": [
    "### Visualizing Series\n",
    "Pandas internally uses matplotlib to visualize data. We do not plot points using matplot lib, but matplotlib is needed to show the plots."
   ]
  },
  {
   "cell_type": "code",
   "execution_count": 37,
   "metadata": {},
   "outputs": [
    {
     "data": {
      "image/png": "[encoded data removed]",
      "text/plain": [
       "<Figure size 432x288 with 1 Axes>"
      ]
     },
     "metadata": {
      "needs_background": "light"
     },
     "output_type": "display_data"
    }
   ],
   "source": [
    "import pandas as pd\n",
    "import matplotlib.pyplot as plt\n",
    "\n",
    "s1 = pd.Series([10, 20, 30, 40, 50], index = ['a', 'b', 'c', 'd', 'e'])\n",
    "s2 = pd.Series([100, 90, 80, 60, 70], index = ['c', 'b', 'a', 'd', 'e'])\n",
    "\n",
    "s1.plot(label = \"s1\")\n",
    "s2.plot(label = \"s2\")\n",
    "plt.legend()\n",
    "plt.show()"
   ]
  },
  {
   "cell_type": "markdown",
   "metadata": {},
   "source": [
    "Other plots can also be done in pandas"
   ]
  },
  {
   "cell_type": "code",
   "execution_count": 38,
   "metadata": {},
   "outputs": [
    {
     "data": {
      "image/png": "[encoded data removed]",
      "text/plain": [
       "<Figure size 432x288 with 1 Axes>"
      ]
     },
     "metadata": {
      "needs_background": "light"
     },
     "output_type": "display_data"
    }
   ],
   "source": [
    "import pandas as pd\n",
    "import matplotlib.pyplot as plt\n",
    "\n",
    "s1 = pd.Series([10, 20, 30, 40, 50], index = ['a', 'b', 'c', 'd', 'e'])\n",
    "s2 = pd.Series([100, 90, 80, 60, 70], index = ['c', 'b', 'a', 'd', 'e'])\n",
    "\n",
    "s2.plot.bar()\n",
    "plt.show()"
   ]
  },
  {
   "cell_type": "markdown",
   "metadata": {},
   "source": [
    "### Exporting Series\n",
    "Series can be exported to many different sources like To CSV, To SQL Database, To Excel etc"
   ]
  },
  {
   "cell_type": "code",
   "execution_count": 1,
   "metadata": {},
   "outputs": [
    {
     "name": "stdout",
     "output_type": "stream",
     "text": [
      "{\"a\":121,\"b\":441,\"c\":961,\"d\":1681,\"e\":2601}\n",
      ",0\n",
      "a,121\n",
      "b,441\n",
      "c,961\n",
      "d,1681\n",
      "e,2601\n",
      "\n"
     ]
    }
   ],
   "source": [
    "import pandas as pd\n",
    "\n",
    "s1 = pd.Series([10, 20, 30, 40, 50], index = ['a', 'b', 'c', 'd', 'e'])\n",
    "s2 = s1.apply(lambda x: x**2 + 2*x +1)\n",
    "\n",
    "print(s2.to_json())\n",
    "print(s2.to_csv())"
   ]
  },
  {
   "cell_type": "markdown",
   "metadata": {},
   "source": [
    "## Data Frames\n",
    "Dataframe is more sofisticated and widely used Data Structure from Pandas Module. It is more like table data structure with rows and columns."
   ]
  },
  {
   "cell_type": "markdown",
   "metadata": {},
   "source": [
    "### Creating Dataframes"
   ]
  },
  {
   "cell_type": "code",
   "execution_count": 3,
   "metadata": {},
   "outputs": [
    {
     "name": "stdout",
     "output_type": "stream",
     "text": [
      "Data Frame: \n",
      "   name  age  height gender\n",
      "0  Anna   21     157      f\n",
      "1   Bob   42     178      m\n",
      "2  Mike   39     145      m\n",
      "3   Liz   14     169      f\n",
      "4  John   54     154      m\n",
      "\n",
      "Data Frame with custom index: \n",
      "    name  age  height gender\n",
      "id                          \n",
      "3   Anna   21     157      f\n",
      "5    Bob   42     178      m\n",
      "7   Mike   39     145      m\n",
      "2    Liz   14     169      f\n",
      "11  John   54     154      m\n",
      "\n"
     ]
    }
   ],
   "source": [
    "import pandas as pd\n",
    "\n",
    "## Lets create data frame from a dictionary.\n",
    "## Dictionary has keys as columns and values as list having element for each row\n",
    "\n",
    "data = {\n",
    "    'name': ['Anna', 'Bob', 'Mike', 'Liz', 'John'],\n",
    "    'age': [21, 42, 39, 14, 54],\n",
    "    'height': [157, 178, 145, 169, 154],\n",
    "    'gender': ['f', 'm', 'm', 'f', 'm']\n",
    "}\n",
    "\n",
    "## Creaet Dataframe\n",
    "df = pd.DataFrame(data)\n",
    "\n",
    "print(f'Data Frame: \\n{df}\\n')\n",
    "\n",
    "## As you can see, it automatically generate index for each row. We can define index for each row manually as well\n",
    "\n",
    "data2 = {\n",
    "    'id': [3, 5, 7, 2, 11],\n",
    "    'name': ['Anna', 'Bob', 'Mike', 'Liz', 'John'],\n",
    "    'age': [21, 42, 39, 14, 54],\n",
    "    'height': [157, 178, 145, 169, 154],\n",
    "    'gender': ['f', 'm', 'm', 'f', 'm']\n",
    "}\n",
    "\n",
    "df2 = pd.DataFrame(data2)\n",
    "df2.set_index('id', inplace=True) ## It is important that value which we are setting as index is unique\n",
    "\n",
    "print(f'Data Frame with custom index: \\n{df2}\\n')"
   ]
  },
  {
   "cell_type": "markdown",
   "metadata": {},
   "source": [
    "### Basic methods and attributes"
   ]
  },
  {
   "cell_type": "code",
   "execution_count": 11,
   "metadata": {},
   "outputs": [
    {
     "name": "stdout",
     "output_type": "stream",
     "text": [
      "Top 2 rows: \n",
      "   name  age  height gender\n",
      "0  Anna   21     157      f\n",
      "1   Bob   42     178      m\n",
      "\n",
      "Bottom 2 rows: \n",
      "    name  age  height gender\n",
      "5    Ken   27     161      m\n",
      "6  Sarah   32     152      f\n",
      "\n",
      "Dimension of DF: 2\n",
      "\n",
      "Shape of DF: (7, 4)\n",
      "\n",
      "Size of DF: 28\n",
      "\n",
      "Type of each column in DF: name      object\n",
      "age        int64\n",
      "height     int64\n",
      "gender    object\n",
      "dtype: object\n",
      "\n",
      "Transpose (Row to Column) of DF:            0    1     2    3     4    5      6\n",
      "name    Anna  Bob  Mike  Liz  John  Ken  Sarah\n",
      "age       21   42    39   14    54   27     32\n",
      "height   157  178   145  169   154  161    152\n",
      "gender     f    m     m    f     m    m      f\n",
      "\n"
     ]
    }
   ],
   "source": [
    "import pandas as pd\n",
    "\n",
    "## Lets create data frame from a dictionary.\n",
    "## Dictionary has keys as columns and values as list having element for each row\n",
    "\n",
    "data = {\n",
    "    'name': ['Anna', 'Bob', 'Mike', 'Liz', 'John', 'Ken', 'Sarah'],\n",
    "    'age': [21, 42, 39, 14, 54, 27, 32],\n",
    "    'height': [157, 178, 145, 169, 154, 161, 152],\n",
    "    'gender': ['f', 'm', 'm', 'f', 'm', 'm', 'f']\n",
    "}\n",
    "\n",
    "## Creaet Dataframe\n",
    "df = pd.DataFrame(data)\n",
    "\n",
    "print(f'Top 2 rows: \\n{df.head(2)}\\n')\n",
    "print(f'Bottom 2 rows: \\n{df.tail(2)}\\n')\n",
    "print(f'Dimension of DF: {df.ndim}\\n')\n",
    "print(f'Shape of DF: {df.shape}\\n')\n",
    "print(f'Size of DF: {df.size}\\n')\n",
    "print(f'Type of each column in DF: {df.dtypes}\\n')\n",
    "print(f'Transpose (Row to Column) of DF: {df.T}\\n')"
   ]
  },
  {
   "cell_type": "markdown",
   "metadata": {},
   "source": [
    "### Accessing items in DF"
   ]
  },
  {
   "cell_type": "code",
   "execution_count": 18,
   "metadata": {},
   "outputs": [
    {
     "name": "stdout",
     "output_type": "stream",
     "text": [
      "2nd Row: \n",
      "name      Bob\n",
      "age        42\n",
      "height    178\n",
      "gender      m\n",
      "Name: 1, dtype: object\n",
      "\n",
      "Name Column: \n",
      "0     Anna\n",
      "1      Bob\n",
      "2     Mike\n",
      "3      Liz\n",
      "4     John\n",
      "5      Ken\n",
      "6    Sarah\n",
      "Name: name, dtype: object\n",
      "\n",
      "Name in 2nd Row: Bob\n",
      "\n"
     ]
    }
   ],
   "source": [
    "import pandas as pd\n",
    "\n",
    "## Lets create data frame from a dictionary.\n",
    "## Dictionary has keys as columns and values as list having element for each row\n",
    "\n",
    "data = {\n",
    "    'name': ['Anna', 'Bob', 'Mike', 'Liz', 'John', 'Ken', 'Sarah'],\n",
    "    'age': [21, 42, 39, 14, 54, 27, 32],\n",
    "    'height': [157, 178, 145, 169, 154, 161, 152],\n",
    "    'gender': ['f', 'm', 'm', 'f', 'm', 'm', 'f']\n",
    "}\n",
    "\n",
    "## Creaet Dataframe\n",
    "df = pd.DataFrame(data)\n",
    "\n",
    "## Accessing rows\n",
    "print(f'2nd Row: \\n{df.iloc[1]}\\n')\n",
    "\n",
    "## Accessing Columns\n",
    "print(f'Name Column: \\n{df[\"name\"]}\\n')\n",
    "\n",
    "## Accessing items\n",
    "print(f'Name in 2nd Row: {df[\"name\"].iloc[1]}\\n')"
   ]
  },
  {
   "cell_type": "markdown",
   "metadata": {},
   "source": [
    "### Plotting Data Frames"
   ]
  },
  {
   "cell_type": "code",
   "execution_count": 19,
   "metadata": {},
   "outputs": [
    {
     "data": {
      "image/png": "[encoded data removed]",
      "text/plain": [
       "<Figure size 432x288 with 1 Axes>"
      ]
     },
     "metadata": {
      "needs_background": "light"
     },
     "output_type": "display_data"
    }
   ],
   "source": [
    "import pandas as pd\n",
    "import matplotlib.pyplot as plt\n",
    "\n",
    "## Lets create data frame from a dictionary.\n",
    "## Dictionary has keys as columns and values as list having element for each row\n",
    "\n",
    "data = {\n",
    "    'name': ['Anna', 'Bob', 'Mike', 'Liz', 'John', 'Ken', 'Sarah'],\n",
    "    'age': [21, 42, 39, 14, 54, 27, 32],\n",
    "    'height': [157, 178, 145, 169, 154, 161, 152],\n",
    "    'gender': ['f', 'm', 'm', 'f', 'm', 'm', 'f']\n",
    "}\n",
    "\n",
    "## Creaet Dataframe\n",
    "df = pd.DataFrame(data)\n",
    "\n",
    "df.plot() ## Pandas gets only numeric attributes for plotting\n",
    "plt.show()"
   ]
  },
  {
   "cell_type": "markdown",
   "metadata": {},
   "source": [
    "### Statistical Functions"
   ]
  },
  {
   "cell_type": "code",
   "execution_count": 31,
   "metadata": {},
   "outputs": [
    {
     "name": "stdout",
     "output_type": "stream",
     "text": [
      "Count of rows in each column: \n",
      "name      7\n",
      "age       7\n",
      "height    7\n",
      "gender    7\n",
      "dtype: int64\n",
      "\n",
      "Sum of rows in each column: \n",
      "name      AnnaBobMikeLizJohnKenSarah\n",
      "age                              229\n",
      "height                          1116\n",
      "gender                       fmmfmmf\n",
      "dtype: object\n",
      "\n",
      "Product of all Ages: 22468223232\n",
      "\n",
      "Minimum Height: 145\n",
      "\n",
      "Maximum Height: 178\n",
      "\n",
      "Average Height: 159.42857142857142\n",
      "\n",
      "Median Height: 157.0\n",
      "\n",
      "Mode (most often occuring) Height: 157.0\n",
      "\n",
      "Standard Deviation of Height: 11.088389466120901\n",
      "\n",
      "Summary Statistics of Height: \n",
      "count      7.000000\n",
      "mean     159.428571\n",
      "std       11.088389\n",
      "min      145.000000\n",
      "25%      153.000000\n",
      "50%      157.000000\n",
      "75%      165.000000\n",
      "max      178.000000\n",
      "Name: height, dtype: float64\n",
      "\n"
     ]
    }
   ],
   "source": [
    "import pandas as pd\n",
    "\n",
    "## Lets create data frame from a dictionary.\n",
    "## Dictionary has keys as columns and values as list having element for each row\n",
    "\n",
    "data = {\n",
    "    'name': ['Anna', 'Bob', 'Mike', 'Liz', 'John', 'Ken', 'Sarah'],\n",
    "    'age': [21, 42, 39, 14, 54, 27, 32],\n",
    "    'height': [157, 178, 145, 169, 154, 161, 152],\n",
    "    'gender': ['f', 'm', 'm', 'f', 'm', 'm', 'f']\n",
    "}\n",
    "\n",
    "## Creaet Dataframe\n",
    "df = pd.DataFrame(data)\n",
    "\n",
    "## Statistical Functions\n",
    "print(f'Count of rows in each column: \\n{df.count()}\\n')\n",
    "print(f'Sum of rows in each column: \\n{df.sum()}\\n') # This concatenate the strings\n",
    "print(f'Product of all Ages: {df[\"age\"].prod()}\\n')\n",
    "print(f'Minimum Height: {df[\"height\"].min()}\\n')\n",
    "print(f'Maximum Height: {df[\"height\"].max()}\\n')\n",
    "print(f'Average Height: {df[\"height\"].mean()}\\n')\n",
    "print(f'Median Height: {df[\"height\"].median()}\\n')\n",
    "print(f'Mode (most often occuring) Height: {df[\"height\"].median()}\\n')\n",
    "print(f'Standard Deviation of Height: {df[\"height\"].std()}\\n')\n",
    "print(f'Summary Statistics of Height: \\n{df[\"height\"].describe()}\\n')"
   ]
  },
  {
   "cell_type": "markdown",
   "metadata": {},
   "source": [
    "### Numpy with Pandas DF"
   ]
  },
  {
   "cell_type": "code",
   "execution_count": 3,
   "metadata": {},
   "outputs": [
    {
     "name": "stdout",
     "output_type": "stream",
     "text": [
      "Square root of Heights: \n",
      "0    12.529964\n",
      "1    13.341664\n",
      "2    12.041595\n",
      "3    13.000000\n",
      "4    12.409674\n",
      "5    12.688578\n",
      "6    12.328828\n",
      "Name: height, dtype: float64\n",
      "\n"
     ]
    }
   ],
   "source": [
    "import numpy as np\n",
    "import pandas as pd\n",
    "\n",
    "## Lets create data frame from a dictionary.\n",
    "## Dictionary has keys as columns and values as list having element for each row\n",
    "\n",
    "data = {\n",
    "    'name': ['Anna', 'Bob', 'Mike', 'Liz', 'John', 'Ken', 'Sarah'],\n",
    "    'age': [21, 42, 39, 14, 54, 27, 32],\n",
    "    'height': [157, 178, 145, 169, 154, 161, 152],\n",
    "    'gender': ['f', 'm', 'm', 'f', 'm', 'm', 'f']\n",
    "}\n",
    "\n",
    "## Creaet Dataframe\n",
    "df = pd.DataFrame(data)\n",
    "\n",
    "print(f'Square root of Heights: \\n{df[\"height\"].apply(np.sqrt)}\\n')"
   ]
  },
  {
   "cell_type": "markdown",
   "metadata": {},
   "source": [
    "### Iteration over DF"
   ]
  },
  {
   "cell_type": "code",
   "execution_count": 8,
   "metadata": {},
   "outputs": [
    {
     "name": "stdout",
     "output_type": "stream",
     "text": [
      "0     Anna\n",
      "1      Bob\n",
      "2     Mike\n",
      "3      Liz\n",
      "4     John\n",
      "5      Ken\n",
      "6    Sarah\n",
      "Name: name, dtype: object \n",
      "\n",
      "0    21\n",
      "1    42\n",
      "2    39\n",
      "3    14\n",
      "4    54\n",
      "5    27\n",
      "6    32\n",
      "Name: age, dtype: int64 \n",
      "\n",
      "0    157\n",
      "1    178\n",
      "2    145\n",
      "3    169\n",
      "4    154\n",
      "5    161\n",
      "6    152\n",
      "Name: height, dtype: int64 \n",
      "\n",
      "0    f\n",
      "1    m\n",
      "2    m\n",
      "3    f\n",
      "4    m\n",
      "5    m\n",
      "6    f\n",
      "Name: gender, dtype: object \n",
      "\n",
      "21\n",
      "42\n",
      "39\n",
      "14\n",
      "54\n",
      "27\n",
      "32\n",
      "0 : 21\n",
      "1 : 42\n",
      "2 : 39\n",
      "3 : 14\n",
      "4 : 54\n",
      "5 : 27\n",
      "6 : 32\n",
      "(0, name      Anna\n",
      "age         21\n",
      "height     157\n",
      "gender       f\n",
      "Name: 0, dtype: object) \n",
      "\n",
      "(1, name      Bob\n",
      "age        42\n",
      "height    178\n",
      "gender      m\n",
      "Name: 1, dtype: object) \n",
      "\n",
      "(2, name      Mike\n",
      "age         39\n",
      "height     145\n",
      "gender       m\n",
      "Name: 2, dtype: object) \n",
      "\n",
      "(3, name      Liz\n",
      "age        14\n",
      "height    169\n",
      "gender      f\n",
      "Name: 3, dtype: object) \n",
      "\n",
      "(4, name      John\n",
      "age         54\n",
      "height     154\n",
      "gender       m\n",
      "Name: 4, dtype: object) \n",
      "\n",
      "(5, name      Ken\n",
      "age        27\n",
      "height    161\n",
      "gender      m\n",
      "Name: 5, dtype: object) \n",
      "\n",
      "(6, name      Sarah\n",
      "age          32\n",
      "height      152\n",
      "gender        f\n",
      "Name: 6, dtype: object) \n",
      "\n"
     ]
    }
   ],
   "source": [
    "import pandas as pd\n",
    "\n",
    "## Lets create data frame from a dictionary.\n",
    "## Dictionary has keys as columns and values as list having element for each row\n",
    "\n",
    "data = {\n",
    "    'name': ['Anna', 'Bob', 'Mike', 'Liz', 'John', 'Ken', 'Sarah'],\n",
    "    'age': [21, 42, 39, 14, 54, 27, 32],\n",
    "    'height': [157, 178, 145, 169, 154, 161, 152],\n",
    "    'gender': ['f', 'm', 'm', 'f', 'm', 'm', 'f']\n",
    "}\n",
    "\n",
    "## Creaet Dataframe\n",
    "df = pd.DataFrame(data)\n",
    "\n",
    "## All rows can be traversed like dictionary. It will print each column\n",
    "for col in df:\n",
    "    print(df[col], '\\n')\n",
    "    \n",
    "## But if we need only 1 column, it can be done\n",
    "for val in df[\"age\"]:\n",
    "    print(val)  ## Print all ages\n",
    "    \n",
    "## But the second approach miss keys and se we don't know which age is for which row\n",
    "for key, val in df[\"age\"].iteritems():\n",
    "    print(f'{key} : {val}')\n",
    "    \n",
    "## And Rows can also be iterated instead of column\n",
    "for row in df.iterrows():\n",
    "    print(row, '\\n')"
   ]
  },
  {
   "cell_type": "markdown",
   "metadata": {},
   "source": [
    "### Sorting DF"
   ]
  },
  {
   "cell_type": "code",
   "execution_count": 16,
   "metadata": {},
   "outputs": [
    {
     "name": "stdout",
     "output_type": "stream",
     "text": [
      "Sorted DF: \n",
      "     name  age  height gender\n",
      "id                           \n",
      "1     Liz   14     169      f\n",
      "3    John   54     154      m\n",
      "4    Anna   21     157      f\n",
      "5   Sarah   32     152      f\n",
      "7     Bob   42     178      m\n",
      "8     Ken   27     169      m\n",
      "9    Mike   39     157      m\n",
      "\n",
      "Sorted by Height and Age (for same height): \n",
      "     name  age  height gender\n",
      "id                           \n",
      "5   Sarah   32     152      f\n",
      "3    John   54     154      m\n",
      "4    Anna   21     157      f\n",
      "9    Mike   39     157      m\n",
      "1     Liz   14     169      f\n",
      "8     Ken   27     169      m\n",
      "7     Bob   42     178      m\n",
      "\n"
     ]
    }
   ],
   "source": [
    "import pandas as pd\n",
    "\n",
    "## Lets create data frame from a dictionary.\n",
    "## Dictionary has keys as columns and values as list having element for each row\n",
    "\n",
    "data = {\n",
    "    'id': [4, 7, 9, 1, 3, 8, 5],\n",
    "    'name': ['Anna', 'Bob', 'Mike', 'Liz', 'John', 'Ken', 'Sarah'],\n",
    "    'age': [21, 42, 39, 14, 54, 27, 32],\n",
    "    'height': [157, 178, 157, 169, 154, 169, 152],\n",
    "    'gender': ['f', 'm', 'm', 'f', 'm', 'm', 'f']\n",
    "}\n",
    "\n",
    "## Creaet Dataframe\n",
    "df = pd.DataFrame(data)\n",
    "\n",
    "## Set Custom Key which is not sorted\n",
    "df.set_index('id', inplace = True)\n",
    "\n",
    "## Sort Dataframe by index\n",
    "df.sort_index(inplace=True)\n",
    "\n",
    "print(f'Sorted DF: \\n{df}\\n')\n",
    "\n",
    "## But if we want sorted by other column not id, we can do that\n",
    "df.sort_values(by=[\"height\", \"age\"], inplace=True)\n",
    "print(f'Sorted by Height and Age (for same height): \\n{df}\\n')"
   ]
  },
  {
   "cell_type": "markdown",
   "metadata": {},
   "source": [
    "### Merging/Joining Pandas DFs"
   ]
  },
  {
   "cell_type": "code",
   "execution_count": 34,
   "metadata": {},
   "outputs": [
    {
     "name": "stdout",
     "output_type": "stream",
     "text": [
      "     name  age\n",
      "id            \n",
      "4    Anna   21\n",
      "7     Bob   42\n",
      "9    Mike   39\n",
      "1     Liz   14\n",
      "3    John   54\n",
      "8     Ken   27\n",
      "5   Sarah   32\n",
      "10    Jim   27\n",
      "11    Joe   38 \n",
      "\n",
      "    height gender\n",
      "id               \n",
      "9      157      m\n",
      "3      178      m\n",
      "4      157      f\n",
      "5      169      f\n",
      "7      154      m\n",
      "8      169      m\n",
      "1      152      f\n",
      "2      172      m\n",
      "6      145      f \n",
      "\n",
      "Inner join: \n",
      "     name  age  height gender\n",
      "id                           \n",
      "1     Liz   14     152      f\n",
      "3    John   54     178      m\n",
      "4    Anna   21     157      f\n",
      "5   Sarah   32     169      f\n",
      "7     Bob   42     154      m\n",
      "8     Ken   27     169      m\n",
      "9    Mike   39     157      m\n",
      "\n",
      "Left join: \n",
      "     name  age  height gender\n",
      "id                           \n",
      "1     Liz   14   152.0      f\n",
      "3    John   54   178.0      m\n",
      "4    Anna   21   157.0      f\n",
      "5   Sarah   32   169.0      f\n",
      "7     Bob   42   154.0      m\n",
      "8     Ken   27   169.0      m\n",
      "9    Mike   39   157.0      m\n",
      "10    Jim   27     NaN    NaN\n",
      "11    Joe   38     NaN    NaN\n",
      "\n",
      "Right join: \n",
      "     name   age  height gender\n",
      "id                            \n",
      "1     Liz  14.0     152      f\n",
      "2     NaN   NaN     172      m\n",
      "3    John  54.0     178      m\n",
      "4    Anna  21.0     157      f\n",
      "5   Sarah  32.0     169      f\n",
      "6     NaN   NaN     145      f\n",
      "7     Bob  42.0     154      m\n",
      "8     Ken  27.0     169      m\n",
      "9    Mike  39.0     157      m\n",
      "\n",
      "Outer join: \n",
      "     name   age  height gender\n",
      "id                            \n",
      "1     Liz  14.0   152.0      f\n",
      "2     NaN   NaN   172.0      m\n",
      "3    John  54.0   178.0      m\n",
      "4    Anna  21.0   157.0      f\n",
      "5   Sarah  32.0   169.0      f\n",
      "6     NaN   NaN   145.0      f\n",
      "7     Bob  42.0   154.0      m\n",
      "8     Ken  27.0   169.0      m\n",
      "9    Mike  39.0   157.0      m\n",
      "10    Jim  27.0     NaN    NaN\n",
      "11    Joe  38.0     NaN    NaN\n",
      "\n"
     ]
    }
   ],
   "source": [
    "import pandas as pd\n",
    "\n",
    "## First Data Frame\n",
    "data1 = {\n",
    "    'id': [4, 7, 9, 1, 3, 8, 5, 10, 11],\n",
    "    'name': ['Anna', 'Bob', 'Mike', 'Liz', 'John', 'Ken', 'Sarah', 'Jim', 'Joe'],\n",
    "    'age': [21, 42, 39, 14, 54, 27, 32, 27, 38]\n",
    "}\n",
    "\n",
    "## Second Data Frame, not having same rows as first df\n",
    "data2 = {\n",
    "    'id': [9, 3, 4, 5, 7, 8, 1, 2, 6],\n",
    "    'height': [157, 178, 157, 169, 154, 169, 152, 172, 145],\n",
    "    'gender': ['m', 'm', 'f', 'f', 'm', 'm', 'f', 'm', 'f']\n",
    "}\n",
    "\n",
    "## Creaet Dataframes\n",
    "df1 = pd.DataFrame(data1)\n",
    "df1.set_index('id', inplace=True)\n",
    "\n",
    "df2 = pd.DataFrame(data2)\n",
    "df2.set_index('id', inplace=True)\n",
    "\n",
    "print(df1, '\\n')\n",
    "print(df2, '\\n')\n",
    "\n",
    "## Join using merge\n",
    "in_join = pd.merge(df1, df2, on='id', how='inner')\n",
    "left_join = pd.merge(df1, df2, on='id', how='left')\n",
    "right_join = pd.merge(df1, df2, on='id', how='right')\n",
    "out_join = pd.merge(df1, df2, on='id', how='outer')\n",
    "\n",
    "print(f'Inner join: \\n{in_join.sort_index()}\\n')\n",
    "print(f'Left join: \\n{left_join.sort_index()}\\n')\n",
    "print(f'Right join: \\n{right_join.sort_index()}\\n')\n",
    "print(f'Outer join: \\n{out_join.sort_index()}\\n')"
   ]
  },
  {
   "cell_type": "markdown",
   "metadata": {},
   "source": [
    "### Filtering Records"
   ]
  },
  {
   "cell_type": "code",
   "execution_count": 43,
   "metadata": {},
   "outputs": [
    {
     "name": "stdout",
     "output_type": "stream",
     "text": [
      "id\n",
      "4    False\n",
      "7     True\n",
      "9     True\n",
      "1    False\n",
      "3     True\n",
      "8    False\n",
      "5    False\n",
      "2    False\n",
      "6     True\n",
      "Name: age, dtype: bool \n",
      "\n",
      "Age below 35: \n",
      "     name  age  height gender\n",
      "id                          \n",
      "7    Bob   42     178      m\n",
      "9   Mike   39     157      m\n",
      "3   John   54     154      m\n",
      "6    Joe   38     145      f \n",
      "\n",
      "Height below 160: \n",
      "     name  height\n",
      "id              \n",
      "4   Anna     157\n",
      "9   Mike     157\n",
      "3   John     154\n",
      "6    Joe     145 \n",
      "\n",
      "Height > 160 and age below 35: \n",
      "     name  age  height gender\n",
      "id                           \n",
      "1     Liz   14     169      f\n",
      "8     Ken   27     169      m\n",
      "5   Sarah   32     162      f\n",
      "2     Jim   27     172      m\n",
      "\n"
     ]
    }
   ],
   "source": [
    "import pandas as pd\n",
    "\n",
    "df = pd.read_csv('people.csv', delimiter=',')\n",
    "df.set_index('id', inplace=True)\n",
    "\n",
    "## Lets make a new DF where we have boolean value based on condition\n",
    "my_cond = df[\"age\"] > 35\n",
    "print(my_cond, '\\n')\n",
    "\n",
    "## Now filter df on this condition\n",
    "print('Age below 35: \\n', df.loc[my_cond], '\\n')\n",
    "\n",
    "## Which can be short handed to\n",
    "## Filter can be used only on labels not values. \n",
    "## So when we filter name and height it get only name and height columns\n",
    "print('Height below 160: \\n', df.loc[df[\"height\"] < 160].filter(items=[\"name\", \"height\"]), '\\n')\n",
    "\n",
    "## Multiple conditions can be merged\n",
    "print(f'Height > 160 and age below 35: \\n{df.loc[(df[\"height\"] > 160) & (df[\"age\"] < 35)]}\\n')"
   ]
  }
 ],
 "metadata": {
  "kernelspec": {
   "display_name": "Python 3",
   "language": "python",
   "name": "python3"
  },
  "language_info": {
   "codemirror_mode": {
    "name": "ipython",
    "version": 3
   },
   "file_extension": ".py",
   "mimetype": "text/x-python",
   "name": "python",
   "nbconvert_exporter": "python",
   "pygments_lexer": "ipython3",
   "version": "3.8.2"
  }
 },
 "nbformat": 4,
 "nbformat_minor": 2
}
