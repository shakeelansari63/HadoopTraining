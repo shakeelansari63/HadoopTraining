{
 "cells": [
  {
   "cell_type": "markdown",
   "metadata": {},
   "source": [
    "##   \n",
    "## HEAP\n",
    "Heap is a binary tree like data structure, meaning the parent has at max 2 child nodes.  \n",
    "Heap is complete binary tree i.e. all the levels except 0th level (leaf node) are fully populated. There is no missing data. And leaf nodes are populated on left side.\n",
    "\n",
    "##### Heap Representation as Array\n",
    "Heap can be represented as 1D array.\n",
    "1. 1st element of array will be the Root element\n",
    "2. Child Elements are populated left to right.\n",
    "3. Child of any element n will be 2n+1 and 2n+2 (Assuming array index start at 0)\n",
    "4. Similarly, parent of any element n will be ((n+1) / 2) -1 (Assuming array index start at 0 & integer division).\n",
    "\n",
    "![Heap as Array](img/heap-as-array.svg)\n",
    "\n",
    "##### Max Heap\n",
    "Max Heap is a Heap where value of any parent node is greater than the values of its child nodes.   \n",
    "In Max Heap, root element has the largest value.\n",
    "\n",
    "![Max Heap Tree](img/max-heap.svg)\n",
    "\n",
    "##### Min Heap\n",
    "Min Heap is a Heap where value if any parent node is less than the values of its child nodes.  \n",
    "In Min Heap, the root element has the least value.\n",
    "\n",
    "![Min Heap Tree](img/min-heap.svg)\n",
    "\n",
    "##### Add Element to Max Heap\n",
    "New element is always added at end of list (i.e. next position of available leaf) to keep it complete binary tree.\n",
    "  \n",
    "After adding an element at last, the value is recursively compared to its parent. If the new value is greater than its parrent, then the values are swapped. Otherwise the value stay there."
   ]
  },
  {
   "cell_type": "code",
   "execution_count": null,
   "metadata": {},
   "outputs": [],
   "source": []
  }
 ],
 "metadata": {
  "kernelspec": {
   "display_name": "Python 3",
   "language": "python",
   "name": "python3"
  },
  "language_info": {
   "codemirror_mode": {
    "name": "ipython",
    "version": 3
   },
   "file_extension": ".py",
   "mimetype": "text/x-python",
   "name": "python",
   "nbconvert_exporter": "python",
   "pygments_lexer": "ipython3",
   "version": "3.8.2"
  }
 },
 "nbformat": 4,
 "nbformat_minor": 2
}
