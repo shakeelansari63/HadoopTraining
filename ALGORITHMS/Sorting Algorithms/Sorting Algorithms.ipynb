{
 "cells": [
  {
   "cell_type": "markdown",
   "metadata": {},
   "source": [
    "# Sorting Algorithms in action\n",
    "\n",
    "### Input String \n",
    "![Unsorted Array](img/inp-array.svg)\n",
    "\n",
    "### Expected Output\n",
    "![Sorted Array](img/sorted-array.svg)"
   ]
  },
  {
   "cell_type": "code",
   "execution_count": 5,
   "metadata": {},
   "outputs": [
    {
     "name": "stdout",
     "output_type": "stream",
     "text": [
      "[10, 2, 0, 14, 43, 25, 18, 1, 5, 45]\n"
     ]
    }
   ],
   "source": [
    "inp = [10,2,0,14,43,25,18,1,5,45]\n",
    "listlen = len(inp)\n",
    "print(inp)"
   ]
  },
  {
   "cell_type": "markdown",
   "metadata": {},
   "source": [
    "##   \n",
    "## 1. Selection Sort\n",
    "\n",
    "### Algorithm of Selection Sort\n",
    "In Selection Sort, starting from left to right, an element is compared with all elements on its right and swapped when smaller element is found\n",
    "\n",
    "### Iterations\n",
    "![Selection Sort Itr 1](img/selection-sort.svg)"
   ]
  },
  {
   "cell_type": "code",
   "execution_count": 6,
   "metadata": {},
   "outputs": [
    {
     "name": "stdout",
     "output_type": "stream",
     "text": [
      "28.3 µs ± 5.55 µs per loop (mean ± std. dev. of 7 runs, 1 loop each)\n",
      "Input : [10, 2, 0, 14, 43, 25, 18, 1, 5, 45]\n",
      "Output: [0, 1, 2, 5, 10, 14, 18, 25, 43, 45]\n"
     ]
    }
   ],
   "source": [
    "def selection_sort(array):\n",
    "    ## Going from 0 to len-1 of array\n",
    "    for i in range(listlen - 1):\n",
    "        \n",
    "        ## Going from next element of i till last element\n",
    "        for j in range(i + 1, listlen):\n",
    "            \n",
    "            ## If value of j is smaller than current i, swap the values\n",
    "            if array[j] < array[i]:\n",
    "                \n",
    "                ## Swap\n",
    "                tmp = array[i]\n",
    "                array[i] = array[j]\n",
    "                array[j] = tmp\n",
    "\n",
    "## Copy input array to new array for comparision\n",
    "op = inp.copy()\n",
    "\n",
    "## Sort the Output array\n",
    "%timeit -n1 -c selection_sort(op)\n",
    "\n",
    "## Display both arrays\n",
    "print(\"Input :\", inp)\n",
    "print(\"Output:\", op)"
   ]
  },
  {
   "cell_type": "markdown",
   "metadata": {},
   "source": [
    "##   \n",
    "## 2. Bubble Sort\n",
    "### Algorithm of Bubble Sort\n",
    "Starting from 1st Position, each element is compared to element on its right. If Element on right is small, then the values are swapped. \n",
    "And Next iteration again start from 1st element.\n",
    "\n",
    "### Iterations\n",
    "![Bubble Sort Iterations](img/bubble-sort.svg)"
   ]
  },
  {
   "cell_type": "code",
   "execution_count": 7,
   "metadata": {},
   "outputs": [
    {
     "name": "stdout",
     "output_type": "stream",
     "text": [
      "31.1 µs ± 7.1 µs per loop (mean ± std. dev. of 7 runs, 1 loop each)\n",
      "Input : [10, 2, 0, 14, 43, 25, 18, 1, 5, 45]\n",
      "Output: [0, 1, 2, 5, 10, 14, 18, 25, 43, 45]\n"
     ]
    }
   ],
   "source": [
    "def bubble_sort(array):\n",
    "    ## Going from 0 to len-1 of array\n",
    "    for i in range(listlen - 1):\n",
    "        \n",
    "        ## Going from next element of i till last element\n",
    "        for j in range(listlen - i - 1):\n",
    "            \n",
    "            ## If value of j is smaller than current i, swap the values\n",
    "            if array[j + 1] < array[j]:\n",
    "                \n",
    "                ## Swap\n",
    "                tmp = array[j]\n",
    "                array[j] = array[j + 1]\n",
    "                array[j + 1] = tmp\n",
    "\n",
    "## Copy input array to nre array for comparision\n",
    "op = inp.copy()\n",
    "\n",
    "## Sort the Output array and time the function \n",
    "%timeit -n1 -c bubble_sort(op)\n",
    "\n",
    "## Display both arrays\n",
    "print(\"Input :\", inp)\n",
    "print(\"Output:\", op)"
   ]
  },
  {
   "cell_type": "markdown",
   "metadata": {},
   "source": [
    "##   \n",
    "## 3. Insertion Sort\n",
    "### Algorithm of Insertion Sort\n",
    "Insertion Sort divides the List into 2 parts, Sorted array and Unsorted array.\n",
    "Initially Sorted array have only 1 item and unsorted array has all other items. \n",
    "\n",
    "Then it start picking left most item from unsorted list and inserts it to correct position on Sorted list, hence extending the sorted list.\n",
    "\n",
    "Finally when sorted list reach end of array, the insertion stops.\n",
    "\n",
    "### Iterations\n",
    "![Insertion Sort Iterations](img/insertion-sort.svg)"
   ]
  },
  {
   "cell_type": "code",
   "execution_count": 8,
   "metadata": {
    "scrolled": true
   },
   "outputs": [
    {
     "name": "stdout",
     "output_type": "stream",
     "text": [
      "12.4 µs ± 6.02 µs per loop (mean ± std. dev. of 7 runs, 1 loop each)\n",
      "Input : [10, 2, 0, 14, 43, 25, 18, 1, 5, 45]\n",
      "Output: [0, 1, 2, 5, 10, 14, 18, 25, 43, 45]\n"
     ]
    }
   ],
   "source": [
    "def insertion_sort(array):\n",
    "    ## Dividing List into Sorted and Unsorted Sublist by considering 1st element as Sorted List \n",
    "    ## as there is only 1 item and all on right as unsorted sublist. \n",
    "    ## So unsorted sublist start from position 1\n",
    "    for idx in range(1, listlen):\n",
    "        ## pick the fist item of unsorted sublist in variable\n",
    "        tmp = array[idx]\n",
    "        \n",
    "        ## Initialize last element position of Sorted Sublist\n",
    "        s_idx = idx - 1\n",
    "        \n",
    "        ## Right Shift Sorted Sublist Untill Sorted Sublist element is greater than Tmp Element\n",
    "        while array[s_idx] >= tmp and s_idx >= 0:\n",
    "            array[s_idx + 1] = array[s_idx]\n",
    "            s_idx -= 1\n",
    "        \n",
    "        ## Not when loop end, S-Idx is pointing to position 1 lower than correct position\n",
    "        ## So put the tmp value on s_idx + 1\n",
    "        array[s_idx + 1] = tmp\n",
    "        \n",
    "    \n",
    "## Copy input array to nre array for comparision\n",
    "op = inp.copy()\n",
    "\n",
    "## Sort the Output array and time the function \n",
    "%timeit -n1 -c insertion_sort(op)\n",
    "\n",
    "## Display both arrays\n",
    "print(\"Input :\", inp)\n",
    "print(\"Output:\", op)"
   ]
  },
  {
   "cell_type": "markdown",
   "metadata": {},
   "source": [
    "##   \n",
    "## 4. Quick Sort\n",
    "### Algorithm of Quicksort\n",
    "Quick Sort is also called Partition Exchange Sort because it partitions the list while exchanging the values on left and right so that Pivot/key element has all smaller values on left and all big values on right.\n",
    "  \n",
    "Initially start with chosing 1st element as start pointer, last element as end pointer and any element (here we assume 1st element) as pivot element.\n",
    "Then Start pointer moves right untill it finds a value greater than pivot value and End pointer moves left until it finds value smaller than pivort value. \n",
    "  \n",
    "Then we check whether End has crossed Start pointer. If not then we swap the values of Start and End pointers and continue moving pointers. If they have crossed, then we move the exchange the pivot element with End Pointer Element. \n",
    "  \n",
    "At this point we have pivot somewhere in middle dividing the List in to parts. We follow the same techniqui on list on left and right of pivot recursively to sort the whole list.\n",
    "\n",
    "### Iterations\n",
    "![Quick Sort Iterations](img/quick-sort.svg)"
   ]
  },
  {
   "cell_type": "code",
   "execution_count": 15,
   "metadata": {},
   "outputs": [
    {
     "name": "stdout",
     "output_type": "stream",
     "text": [
      "32.4 µs ± 7.67 µs per loop (mean ± std. dev. of 7 runs, 1 loop each)\n",
      "Input : [10, 2, 0, 14, 43, 25, 18, 1, 5, 45]\n",
      "Output: [0, 1, 2, 5, 10, 14, 18, 25, 43, 45]\n"
     ]
    }
   ],
   "source": [
    "def quick_sort(array, start, end):\n",
    "    ## Define Lower and Upper bounds for recursive call\n",
    "    lower_bound = start\n",
    "    upper_bound = end\n",
    "    \n",
    "    ## Assume 1st element of partition as pivot\n",
    "    pivot = start\n",
    "    \n",
    "    ## This loop will continue untill it is broken when start pointer corss end pointer\n",
    "    while True:\n",
    "        ## Move start to right untill it find value greater than pivot\n",
    "        while array[start] < array[pivot]: start += 1\n",
    "\n",
    "        ## Move End to left untill it find value less than pivot\n",
    "        while array[end] > array[pivot] : end -= 1\n",
    "\n",
    "        ## Now check whether End has crossed Start\n",
    "        if start >= end:\n",
    "            ## If start has crossed end, then swap values of Pivot and End pointers\n",
    "            temp = array[pivot]\n",
    "            array[pivot] = array[end]\n",
    "            array[end] = temp\n",
    "            \n",
    "            ## Break the outer loop\n",
    "            break\n",
    "        else:\n",
    "            ## If the start pointer has not crossed end, then swap values in start and end\n",
    "            temp = array[start]\n",
    "            array[start] = array[end]\n",
    "            array[end] = temp\n",
    "    \n",
    "    ## When the loop breaks, recursive call has to be made on left and right of pivot\n",
    "    ### If end pointer is greater then lower bound, that means we have more than one elements on left \n",
    "    if end > lower_bound:\n",
    "        ## Recursive Call on left partition i.e. lower bound till end - 1 poisitions\n",
    "        ## And Pivot element is start of partition i.e. lower bound\n",
    "        quick_sort(op, lower_bound, end -1)\n",
    "        \n",
    "    ### If end pointer us less than upper bound, that means there are more than one elements on right\n",
    "    if end < upper_bound:\n",
    "        ## Recursive Call on right partition i.e. end + 1 till upper bound poisitions\n",
    "        ## And Pivot element is start of partition i.e. end + 1\n",
    "        quick_sort(op, end + 1, upper_bound)\n",
    "\n",
    "## Copy input array to nre array for comparision\n",
    "op = inp.copy()\n",
    "\n",
    "## Sort the Output array and time the function \n",
    "start = 0\n",
    "end = listlen - 1\n",
    "%timeit -n1 -c quick_sort(op, start, end)\n",
    "\n",
    "## Display both arrays\n",
    "print(\"Input :\", inp)\n",
    "print(\"Output:\", op)"
   ]
  },
  {
   "cell_type": "markdown",
   "metadata": {},
   "source": [
    "##   \n",
    "## 5. Merge Sort\n",
    "### Algorithm of Merge Sort\n",
    "\n",
    "\n",
    "### Iterations\n"
   ]
  },
  {
   "cell_type": "code",
   "execution_count": 16,
   "metadata": {},
   "outputs": [
    {
     "name": "stdout",
     "output_type": "stream",
     "text": [
      "7 µs ± 1.69 µs per loop (mean ± std. dev. of 7 runs, 1 loop each)\n",
      "Input : [10, 2, 0, 14, 43, 25, 18, 1, 5, 45]\n",
      "Output: [10, 2, 0, 14, 43, 25, 18, 1, 5, 45]\n"
     ]
    }
   ],
   "source": [
    "def merge_sort(*args):\n",
    "    pass\n",
    "\n",
    "## Copy input array to nre array for comparision\n",
    "op = inp.copy()\n",
    "\n",
    "## Sort the Output array and time the function \n",
    "start = 0\n",
    "end = listlen - 1\n",
    "%timeit -n1 -c merge_sort(op, start, end)\n",
    "\n",
    "## Display both arrays\n",
    "print(\"Input :\", inp)\n",
    "print(\"Output:\", op)"
   ]
  },
  {
   "cell_type": "code",
   "execution_count": null,
   "metadata": {},
   "outputs": [],
   "source": []
  }
 ],
 "metadata": {
  "kernelspec": {
   "display_name": "Python 3",
   "language": "python",
   "name": "python3"
  },
  "language_info": {
   "codemirror_mode": {
    "name": "ipython",
    "version": 3
   },
   "file_extension": ".py",
   "mimetype": "text/x-python",
   "name": "python",
   "nbconvert_exporter": "python",
   "pygments_lexer": "ipython3",
   "version": "3.8.2"
  }
 },
 "nbformat": 4,
 "nbformat_minor": 2
}
