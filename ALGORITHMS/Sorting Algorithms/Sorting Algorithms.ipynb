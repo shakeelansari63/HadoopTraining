{
 "cells": [
  {
   "cell_type": "markdown",
   "metadata": {},
   "source": [
    "# Sorting Algorithms in action\n",
    "\n",
    "### Input String \n",
    "![Unsorted Array](img/inp-array.svg)\n",
    "\n",
    "### Expected Output\n",
    "![Sorted Array](img/sorted-array.svg)"
   ]
  },
  {
   "cell_type": "code",
   "execution_count": 1,
   "metadata": {},
   "outputs": [
    {
     "name": "stdout",
     "output_type": "stream",
     "text": [
      "[10, 2, 0, 14, 43, 25, 18, 1, 5, 45]\n"
     ]
    }
   ],
   "source": [
    "inp = [10,2,0,14,43,25,18,1,5,45]\n",
    "listlen = len(inp)\n",
    "print(inp)"
   ]
  },
  {
   "cell_type": "markdown",
   "metadata": {},
   "source": [
    "##   \n",
    "## 1. Selection Sort\n",
    "\n",
    "### Idea of Selection Sort\n",
    "In Selection Sort, starting from left to right, an element is compared with all elements on its right and swapped when smaller element is found\n",
    "\n",
    "### Iterations\n",
    "![Selection Sort Itr 1](img/selection-sort.svg)"
   ]
  },
  {
   "cell_type": "code",
   "execution_count": 36,
   "metadata": {},
   "outputs": [
    {
     "name": "stdout",
     "output_type": "stream",
     "text": [
      "Input : [10, 2, 0, 14, 43, 25, 18, 1, 5, 45]\n",
      "Output: [0, 1, 2, 5, 10, 14, 18, 25, 43, 45]\n"
     ]
    }
   ],
   "source": [
    "def selection_sort(array):\n",
    "    ## Going from 0 to len-1 of array\n",
    "    for i in range(listlen - 1):\n",
    "        \n",
    "        ## Going from next element of i till last element\n",
    "        for j in range(i + 1, listlen):\n",
    "            \n",
    "            ## If value of j is smaller than current i, swap the values\n",
    "            if array[j] < array[i]:\n",
    "                \n",
    "                ## Swap\n",
    "                tmp = array[i]\n",
    "                array[i] = array[j]\n",
    "                array[j] = tmp\n",
    "\n",
    "## Copy input array to nre array for comparision\n",
    "op = inp.copy()\n",
    "\n",
    "## Sort the Output array\n",
    "selection_sort(op)\n",
    "\n",
    "## Display both arrays\n",
    "print(\"Input :\", inp)\n",
    "print(\"Output:\", op)"
   ]
  },
  {
   "cell_type": "markdown",
   "metadata": {},
   "source": [
    "##   \n",
    "## 2. Bubble Sort"
   ]
  },
  {
   "cell_type": "code",
   "execution_count": 35,
   "metadata": {},
   "outputs": [
    {
     "name": "stdout",
     "output_type": "stream",
     "text": [
      "Input : [10, 2, 0, 14, 43, 25, 18, 1, 5, 45]\n",
      "Output: [0, 1, 2, 5, 10, 14, 18, 25, 43, 45]\n"
     ]
    }
   ],
   "source": [
    "def bubble_sort(array):\n",
    "    ## Going from 0 to len-1 of array\n",
    "    for i in range(listlen - 1):\n",
    "        \n",
    "        ## Going from next element of i till last element\n",
    "        for j in range(listlen - i - 1):\n",
    "            \n",
    "            ## If value of j is smaller than current i, swap the values\n",
    "            if array[j + 1] < array[j]:\n",
    "                \n",
    "                ## Swap\n",
    "                tmp = array[j]\n",
    "                array[j] = array[j + 1]\n",
    "                array[j + 1] = tmp\n",
    "\n",
    "## Copy input array to nre array for comparision\n",
    "op = inp.copy()\n",
    "\n",
    "## Sort the Output array and time the function \n",
    "bubble_sort(op)\n",
    "\n",
    "## Display both arrays\n",
    "print(\"Input :\", inp)\n",
    "print(\"Output:\", op)"
   ]
  },
  {
   "cell_type": "code",
   "execution_count": null,
   "metadata": {},
   "outputs": [],
   "source": []
  }
 ],
 "metadata": {
  "kernelspec": {
   "display_name": "Python 3",
   "language": "python",
   "name": "python3"
  },
  "language_info": {
   "codemirror_mode": {
    "name": "ipython",
    "version": 3
   },
   "file_extension": ".py",
   "mimetype": "text/x-python",
   "name": "python",
   "nbconvert_exporter": "python",
   "pygments_lexer": "ipython3",
   "version": "3.8.2"
  }
 },
 "nbformat": 4,
 "nbformat_minor": 2
}
