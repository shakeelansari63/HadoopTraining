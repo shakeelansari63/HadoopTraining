{
 "cells": [
  {
   "cell_type": "markdown",
   "metadata": {},
   "source": [
    "## Named Vectors\n",
    "Vectors can be named via `names()` function or inside `c()` function"
   ]
  },
  {
   "cell_type": "code",
   "execution_count": 3,
   "metadata": {},
   "outputs": [
    {
     "name": "stdout",
     "output_type": "stream",
     "text": [
      "  Spades   Hearts Diamonds    Clubs \n",
      "      12        7        9       11 \n"
     ]
    }
   ],
   "source": [
    "## Example 1\n",
    "deck = c(\"Spades\", \"Hearts\", \"Diamonds\", \"Clubs\")\n",
    "cards_left = c(12, 7, 9, 11)\n",
    "\n",
    "names(cards_left) <- deck\n",
    "print(cards_left)"
   ]
  },
  {
   "cell_type": "code",
   "execution_count": 4,
   "metadata": {},
   "outputs": [
    {
     "name": "stdout",
     "output_type": "stream",
     "text": [
      "  Spades   Hearts Diamonds    Clubs \n",
      "      12        7        9       11 \n"
     ]
    }
   ],
   "source": [
    "## Example 2\n",
    "cards_left = c(\"Spades\" = 12, \"Hearts\" = 7, \"Diamonds\" = 9, \"Clubs\" = 11)\n",
    "\n",
    "print(cards_left)"
   ]
  },
  {
   "cell_type": "markdown",
   "metadata": {},
   "source": [
    "### Vector Subsets\n",
    "Individual or groups of values can be selected from vectors using subsetting techniques"
   ]
  },
  {
   "cell_type": "code",
   "execution_count": 11,
   "metadata": {},
   "outputs": [
    {
     "data": {
      "text/html": [
       "<strong>Spades:</strong> 12"
      ],
      "text/latex": [
       "\\textbf{Spades:} 12"
      ],
      "text/markdown": [
       "**Spades:** 12"
      ],
      "text/plain": [
       "Spades \n",
       "    12 "
      ]
     },
     "metadata": {},
     "output_type": "display_data"
    },
    {
     "data": {
      "text/html": [
       "<strong>Diamonds:</strong> 9"
      ],
      "text/latex": [
       "\\textbf{Diamonds:} 9"
      ],
      "text/markdown": [
       "**Diamonds:** 9"
      ],
      "text/plain": [
       "Diamonds \n",
       "       9 "
      ]
     },
     "metadata": {},
     "output_type": "display_data"
    },
    {
     "data": {
      "text/html": [
       "<strong>Spades:</strong> 12"
      ],
      "text/latex": [
       "\\textbf{Spades:} 12"
      ],
      "text/markdown": [
       "**Spades:** 12"
      ],
      "text/plain": [
       "Spades \n",
       "    12 "
      ]
     },
     "metadata": {},
     "output_type": "display_data"
    },
    {
     "data": {
      "text/html": [
       "<strong>Hearts:</strong> 7"
      ],
      "text/latex": [
       "\\textbf{Hearts:} 7"
      ],
      "text/markdown": [
       "**Hearts:** 7"
      ],
      "text/plain": [
       "Hearts \n",
       "     7 "
      ]
     },
     "metadata": {},
     "output_type": "display_data"
    },
    {
     "data": {
      "text/html": [
       "<style>\n",
       ".dl-inline {width: auto; margin:0; padding: 0}\n",
       ".dl-inline>dt, .dl-inline>dd {float: none; width: auto; display: inline-block}\n",
       ".dl-inline>dt::after {content: \":\\0020\"; padding-right: .5ex}\n",
       ".dl-inline>dt:not(:first-of-type) {padding-left: .5ex}\n",
       "</style><dl class=dl-inline><dt>Spades</dt><dd>12</dd><dt>Clubs</dt><dd>11</dd></dl>\n"
      ],
      "text/latex": [
       "\\begin{description*}\n",
       "\\item[Spades] 12\n",
       "\\item[Clubs] 11\n",
       "\\end{description*}\n"
      ],
      "text/markdown": [
       "Spades\n",
       ":   12Clubs\n",
       ":   11\n",
       "\n"
      ],
      "text/plain": [
       "Spades  Clubs \n",
       "    12     11 "
      ]
     },
     "metadata": {},
     "output_type": "display_data"
    },
    {
     "data": {
      "text/html": [
       "<style>\n",
       ".dl-inline {width: auto; margin:0; padding: 0}\n",
       ".dl-inline>dt, .dl-inline>dd {float: none; width: auto; display: inline-block}\n",
       ".dl-inline>dt::after {content: \":\\0020\"; padding-right: .5ex}\n",
       ".dl-inline>dt:not(:first-of-type) {padding-left: .5ex}\n",
       "</style><dl class=dl-inline><dt>Hearts</dt><dd>7</dd><dt>Clubs</dt><dd>11</dd></dl>\n"
      ],
      "text/latex": [
       "\\begin{description*}\n",
       "\\item[Hearts] 7\n",
       "\\item[Clubs] 11\n",
       "\\end{description*}\n"
      ],
      "text/markdown": [
       "Hearts\n",
       ":   7Clubs\n",
       ":   11\n",
       "\n"
      ],
      "text/plain": [
       "Hearts  Clubs \n",
       "     7     11 "
      ]
     },
     "metadata": {},
     "output_type": "display_data"
    },
    {
     "data": {
      "text/html": [
       "<style>\n",
       ".dl-inline {width: auto; margin:0; padding: 0}\n",
       ".dl-inline>dt, .dl-inline>dd {float: none; width: auto; display: inline-block}\n",
       ".dl-inline>dt::after {content: \":\\0020\"; padding-right: .5ex}\n",
       ".dl-inline>dt:not(:first-of-type) {padding-left: .5ex}\n",
       "</style><dl class=dl-inline><dt>Hearts</dt><dd>7</dd><dt>Diamonds</dt><dd>9</dd><dt>Clubs</dt><dd>11</dd></dl>\n"
      ],
      "text/latex": [
       "\\begin{description*}\n",
       "\\item[Hearts] 7\n",
       "\\item[Diamonds] 9\n",
       "\\item[Clubs] 11\n",
       "\\end{description*}\n"
      ],
      "text/markdown": [
       "Hearts\n",
       ":   7Diamonds\n",
       ":   9Clubs\n",
       ":   11\n",
       "\n"
      ],
      "text/plain": [
       "  Hearts Diamonds    Clubs \n",
       "       7        9       11 "
      ]
     },
     "metadata": {},
     "output_type": "display_data"
    },
    {
     "data": {
      "text/html": [
       "<style>\n",
       ".dl-inline {width: auto; margin:0; padding: 0}\n",
       ".dl-inline>dt, .dl-inline>dd {float: none; width: auto; display: inline-block}\n",
       ".dl-inline>dt::after {content: \":\\0020\"; padding-right: .5ex}\n",
       ".dl-inline>dt:not(:first-of-type) {padding-left: .5ex}\n",
       "</style><dl class=dl-inline><dt>Hearts</dt><dd>7</dd><dt>Diamonds</dt><dd>9</dd></dl>\n"
      ],
      "text/latex": [
       "\\begin{description*}\n",
       "\\item[Hearts] 7\n",
       "\\item[Diamonds] 9\n",
       "\\end{description*}\n"
      ],
      "text/markdown": [
       "Hearts\n",
       ":   7Diamonds\n",
       ":   9\n",
       "\n"
      ],
      "text/plain": [
       "  Hearts Diamonds \n",
       "       7        9 "
      ]
     },
     "metadata": {},
     "output_type": "display_data"
    }
   ],
   "source": [
    "cards_left = c(\"Spades\" = 12, \"Hearts\" = 7, \"Diamonds\" = 9, \"Clubs\" = 11)\n",
    "\n",
    "## Subset by Index\n",
    "cards_left[1]\n",
    "cards_left[3]\n",
    "\n",
    "## Subset by Name\n",
    "cards_left[\"Spades\"]\n",
    "cards_left[\"Hearts\"]\n",
    "\n",
    "## Multiple Subsets\n",
    "cards_left[c(1, 4)]\n",
    "cards_left[c(\"Hearts\", \"Clubs\")]\n",
    "\n",
    "## Multiple Subsets with Exception\n",
    "cards_left[-1]\n",
    "\n",
    "## Multiple Subsets with Multiple Exceptions\n",
    "cards_left[-c(1, 4)]\n",
    "\n",
    "## Exception does not work with Names"
   ]
  },
  {
   "cell_type": "code",
   "execution_count": 15,
   "metadata": {},
   "outputs": [
    {
     "data": {
      "text/html": [
       "<style>\n",
       ".dl-inline {width: auto; margin:0; padding: 0}\n",
       ".dl-inline>dt, .dl-inline>dd {float: none; width: auto; display: inline-block}\n",
       ".dl-inline>dt::after {content: \":\\0020\"; padding-right: .5ex}\n",
       ".dl-inline>dt:not(:first-of-type) {padding-left: .5ex}\n",
       "</style><dl class=dl-inline><dt>Spades</dt><dd>12</dd><dt>Clubs</dt><dd>11</dd></dl>\n"
      ],
      "text/latex": [
       "\\begin{description*}\n",
       "\\item[Spades] 12\n",
       "\\item[Clubs] 11\n",
       "\\end{description*}\n"
      ],
      "text/markdown": [
       "Spades\n",
       ":   12Clubs\n",
       ":   11\n",
       "\n"
      ],
      "text/plain": [
       "Spades  Clubs \n",
       "    12     11 "
      ]
     },
     "metadata": {},
     "output_type": "display_data"
    },
    {
     "data": {
      "text/html": [
       "<style>\n",
       ".dl-inline {width: auto; margin:0; padding: 0}\n",
       ".dl-inline>dt, .dl-inline>dd {float: none; width: auto; display: inline-block}\n",
       ".dl-inline>dt::after {content: \":\\0020\"; padding-right: .5ex}\n",
       ".dl-inline>dt:not(:first-of-type) {padding-left: .5ex}\n",
       "</style><dl class=dl-inline><dt>Spades</dt><dd>12</dd><dt>Diamonds</dt><dd>9</dd></dl>\n"
      ],
      "text/latex": [
       "\\begin{description*}\n",
       "\\item[Spades] 12\n",
       "\\item[Diamonds] 9\n",
       "\\end{description*}\n"
      ],
      "text/markdown": [
       "Spades\n",
       ":   12Diamonds\n",
       ":   9\n",
       "\n"
      ],
      "text/plain": [
       "  Spades Diamonds \n",
       "      12        9 "
      ]
     },
     "metadata": {},
     "output_type": "display_data"
    },
    {
     "data": {
      "text/html": [
       "<style>\n",
       ".dl-inline {width: auto; margin:0; padding: 0}\n",
       ".dl-inline>dt, .dl-inline>dd {float: none; width: auto; display: inline-block}\n",
       ".dl-inline>dt::after {content: \":\\0020\"; padding-right: .5ex}\n",
       ".dl-inline>dt:not(:first-of-type) {padding-left: .5ex}\n",
       "</style><dl class=dl-inline><dt>Spades</dt><dd>12</dd><dt>Diamonds</dt><dd>9</dd><dt>Clubs</dt><dd>11</dd></dl>\n"
      ],
      "text/latex": [
       "\\begin{description*}\n",
       "\\item[Spades] 12\n",
       "\\item[Diamonds] 9\n",
       "\\item[Clubs] 11\n",
       "\\end{description*}\n"
      ],
      "text/markdown": [
       "Spades\n",
       ":   12Diamonds\n",
       ":   9Clubs\n",
       ":   11\n",
       "\n"
      ],
      "text/plain": [
       "  Spades Diamonds    Clubs \n",
       "      12        9       11 "
      ]
     },
     "metadata": {},
     "output_type": "display_data"
    }
   ],
   "source": [
    "cards_left = c(\"Spades\" = 12, \"Hearts\" = 7, \"Diamonds\" = 9, \"Clubs\" = 11)\n",
    "\n",
    "## Subsetting can also be done by Logical vectors. Result will keep values where true exist in logical vector\n",
    "cards_left[c(TRUE, FALSE, FALSE, TRUE)]\n",
    "\n",
    "## If logical vector is shorter, R recycles the logical vetcor\n",
    "cards_left[c(TRUE, FALSE)] # Is evaluated on c(TRUE, FALSE, TRUE, FALSE)\n",
    "cards_left[c(TRUE, FALSE, TRUE)] # Is evaluated on c(TRUE, FALSE, TRUE, TRUE)"
   ]
  },
  {
   "cell_type": "markdown",
   "metadata": {},
   "source": [
    "## Categorical Vectors\n",
    "Categorical vectors are vectors which can be categorized into multiple levels for Statistical Modeling  \n",
    "  \n",
    "For any Statistical Modeling, it is good practise to convert these categorical values to integer, for saving sapce and performance.  \n",
    "   \n",
    "e.g. of categorical vector - Gender, Blood Group etc"
   ]
  },
  {
   "cell_type": "code",
   "execution_count": 30,
   "metadata": {},
   "outputs": [
    {
     "name": "stdout",
     "output_type": "stream",
     "text": [
      " [1] A  B  A  AB O  AB B  O  A  O \n",
      "Levels: A AB B O\n",
      " Factor w/ 4 levels \"A\",\"AB\",\"B\",\"O\": 1 3 1 2 4 2 3 4 1 4\n",
      " [1] BT_A  BT_B  BT_A  BT_AB BT_O  BT_AB BT_B  BT_O  BT_A  BT_O \n",
      "Levels: BT_O BT_A BT_B BT_AB\n",
      " Factor w/ 4 levels \"BT_O\",\"BT_A\",..: 2 3 2 4 1 4 3 1 2 1\n"
     ]
    }
   ],
   "source": [
    "blood_grp <- c(\"A\", \"B\", \"A\", \"AB\", \"O\", \"AB\", \"B\", \"O\", \"A\", \"O\")\n",
    "\n",
    "## Categorical Vectors can be coverted to integer using factor\n",
    "blood_factor <- factor(blood_grp)\n",
    "\n",
    "print(blood_factor)\n",
    "\n",
    "## Here levels are named and orderd alpahbetically. And internally stored as integer vector\n",
    "## str (Structure) fucntion can show this\n",
    "str(blood_factor)\n",
    "\n",
    "## Levels can be changed manually using level and Labelling can also be changed by labels\n",
    "blood_factor2 <- factor(blood_grp,\n",
    "                      levels = c(\"O\", \"A\", \"B\", \"AB\"),\n",
    "                       labels = c(\"BT_O\", \"BT_A\", \"BT_B\", \"BT_AB\"))\n",
    "\n",
    "print(blood_factor2)\n",
    "str(blood_factor2)"
   ]
  },
  {
   "cell_type": "markdown",
   "metadata": {},
   "source": [
    "### Nominal vs Ordinal Categorical Vectors\n",
    "Nominal categorical vectors are vectrs where order does not matter. You don't care which value comes first.  \n",
    "And example of Nominal vector is Blood Group. It doesn't matter which group gets level 1 and which gets level 4.   \n",
    "  \n",
    "But in some cases, order matter. An example is T-Shirt Sizes (S, M, L, XL). Here order matter as S < M < L < XL. These are ordinal categorical Vectors.  \n",
    "  \n",
    "Comparision can be performed on elements of Ordinal vectors but not on nominal vectors."
   ]
  },
  {
   "cell_type": "code",
   "execution_count": 35,
   "metadata": {},
   "outputs": [
    {
     "name": "stdout",
     "output_type": "stream",
     "text": [
      " [1] S  M  XL M  L  L  S  XL S  M \n",
      "Levels: S < M < L < XL\n"
     ]
    },
    {
     "data": {
      "text/html": [
       "FALSE"
      ],
      "text/latex": [
       "FALSE"
      ],
      "text/markdown": [
       "FALSE"
      ],
      "text/plain": [
       "[1] FALSE"
      ]
     },
     "metadata": {},
     "output_type": "display_data"
    }
   ],
   "source": [
    "tshirt_size <- c(\"S\", \"M\", \"XL\", \"M\", \"L\", \"L\", \"S\", \"XL\", \"S\", \"M\")\n",
    "tshirt_factor <- factor(tshirt_size, ordered = TRUE, \n",
    "                       levels = c(\"S\", \"M\", \"L\", \"XL\"))\n",
    "\n",
    "print(tshirt_factor)\n",
    "\n",
    "## And you can run conditional checks\n",
    "tshirt_factor[1] > tshirt_factor[3]"
   ]
  },
  {
   "cell_type": "markdown",
   "metadata": {},
   "source": [
    "## Named List\n",
    "list can be named using `names()` function or at time of creation just like named vectors"
   ]
  },
  {
   "cell_type": "code",
   "execution_count": 3,
   "metadata": {},
   "outputs": [
    {
     "name": "stdout",
     "output_type": "stream",
     "text": [
      "$Name\n",
      "[1] \"Tere Naam\"\n",
      "\n",
      "$Duration\n",
      "[1] 230\n",
      "\n",
      "$`Track#`\n",
      "[1] 5\n",
      "\n"
     ]
    }
   ],
   "source": [
    "## Example of Named List\n",
    "song <- list(\"Tere Naam\", 230, 5)\n",
    "song_det <- c(\"Name\", \"Duration\", \"Track#\")\n",
    "\n",
    "names(song) <- song_det\n",
    "print(song)"
   ]
  },
  {
   "cell_type": "markdown",
   "metadata": {},
   "source": [
    "#### Note: List data type can store any data even another list"
   ]
  },
  {
   "cell_type": "code",
   "execution_count": 5,
   "metadata": {},
   "outputs": [
    {
     "name": "stdout",
     "output_type": "stream",
     "text": [
      "$Name\n",
      "[1] \"Tere Naam\"\n",
      "\n",
      "$Duration\n",
      "[1] 230\n",
      "\n",
      "$`Track#`\n",
      "[1] 5\n",
      "\n",
      "$Ratings\n",
      "$Ratings[[1]]\n",
      "[1] 5\n",
      "\n",
      "$Ratings[[2]]\n",
      "[1] 4\n",
      "\n",
      "$Ratings[[3]]\n",
      "[1] 2\n",
      "\n",
      "$Ratings[[4]]\n",
      "[1] 4\n",
      "\n",
      "$Ratings[[5]]\n",
      "[1] 3\n",
      "\n",
      "$Ratings[[6]]\n",
      "[1] 5\n",
      "\n",
      "$Ratings[[7]]\n",
      "[1] 4\n",
      "\n",
      "$Ratings[[8]]\n",
      "[1] 3\n",
      "\n",
      "\n",
      "List of 4\n",
      " $ Name    : chr \"Tere Naam\"\n",
      " $ Duration: num 230\n",
      " $ Track#  : num 5\n",
      " $ Ratings :List of 8\n",
      "  ..$ : num 5\n",
      "  ..$ : num 4\n",
      "  ..$ : num 2\n",
      "  ..$ : num 4\n",
      "  ..$ : num 3\n",
      "  ..$ : num 5\n",
      "  ..$ : num 4\n",
      "  ..$ : num 3\n"
     ]
    }
   ],
   "source": [
    "## Example\n",
    "song <- list(Name = \"Tere Naam\",\n",
    "            Duration = 230,\n",
    "            \"Track#\" = 5,\n",
    "            Ratings = list(5, 4, 2, 4, 3, 5, 4, 3))\n",
    "print(song)\n",
    "str(song)"
   ]
  },
  {
   "cell_type": "markdown",
   "metadata": {},
   "source": [
    "## Subsetting List\n",
    "Subsettig a list is different for Subsetting Vector as the [ ] on a vector return individual element where as it return list with 1 element at that position. So to just get atomic value, use [[ ]]"
   ]
  },
  {
   "cell_type": "code",
   "execution_count": 7,
   "metadata": {},
   "outputs": [
    {
     "name": "stdout",
     "output_type": "stream",
     "text": [
      "List of 1\n",
      " $ Name: chr \"Tere Naam\"\n",
      " chr \"Tere Naam\"\n"
     ]
    }
   ],
   "source": [
    "## Example\n",
    "song <- list(Name = \"Tere Naam\",\n",
    "            Duration = 230,\n",
    "            \"Track#\" = 5,\n",
    "            Ratings = list(5, 4, 2, 4, 3, 5, 4, 3))\n",
    "\n",
    "## This return a list\n",
    "str(song[1])\n",
    "\n",
    "## This return atomic value\n",
    "str(song[[1]])"
   ]
  },
  {
   "cell_type": "markdown",
   "metadata": {},
   "source": [
    "To select multiple items, use [ ] not [[ ]]. [[ ]] will nest the subsetting  \n",
    "   \n",
    "list[c(1, 3)] return a list with 2 items i.e. 1st and 3rd  \n",
    "list[[c(1,3)]] is converted to list[[1]][[3]] so it first select 1st item and tries to extract 3rd item from that."
   ]
  },
  {
   "cell_type": "code",
   "execution_count": 12,
   "metadata": {},
   "outputs": [
    {
     "name": "stdout",
     "output_type": "stream",
     "text": [
      "List of 2\n",
      " $ Name  : chr \"Tere Naam\"\n",
      " $ Track#: num 5\n",
      " num 2\n",
      " num 2\n"
     ]
    }
   ],
   "source": [
    "## Example\n",
    "song <- list(Name = \"Tere Naam\",\n",
    "            Duration = 230,\n",
    "            \"Track#\" = 5,\n",
    "            Ratings = list(5, 4, 2, 4, 3, 5, 4, 3))\n",
    "\n",
    "## This extract Name and Track# \n",
    "str(song[c(1, 3)])\n",
    "\n",
    "## This return error as it tries to extract 3rd element from Name string which is not possible\n",
    "#str(song[[c(1, 3)]])\n",
    "\n",
    "## This extract 3rd Rating value from Ratings list\n",
    "str(song[[4]][[3]])\n",
    "\n",
    "## same can be written as\n",
    "str(song[[c(4, 3)]])\n",
    "\n"
   ]
  },
  {
   "cell_type": "markdown",
   "metadata": {},
   "source": [
    "## $ Notation"
   ]
  },
  {
   "cell_type": "code",
   "execution_count": null,
   "metadata": {},
   "outputs": [],
   "source": []
  }
 ],
 "metadata": {
  "kernelspec": {
   "display_name": "R",
   "language": "R",
   "name": "ir"
  },
  "language_info": {
   "codemirror_mode": "r",
   "file_extension": ".r",
   "mimetype": "text/x-r-source",
   "name": "R",
   "pygments_lexer": "r",
   "version": "4.0.2"
  }
 },
 "nbformat": 4,
 "nbformat_minor": 4
}
