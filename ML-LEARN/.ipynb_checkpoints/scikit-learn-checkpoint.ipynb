{
 "cells": [
  {
   "cell_type": "markdown",
   "metadata": {},
   "source": [
    "## Hello World of ML"
   ]
  },
  {
   "cell_type": "code",
   "execution_count": 6,
   "metadata": {},
   "outputs": [
    {
     "name": "stdout",
     "output_type": "stream",
     "text": [
      "['Apple']\n"
     ]
    }
   ],
   "source": [
    "import sklearn\n",
    "from sklearn import tree\n",
    "\n",
    "feature = [[150, 0], [140, 1], [160, 1], [120, 0]] # 0 - Smooth & 1 - Rough\n",
    "label = ['Apple', 'Orange', 'Orange', 'Apple']\n",
    "clf = tree.DecisionTreeClassifier()\n",
    "clf.fit(feature, label)\n",
    "\n",
    "prediction = clf.predict([[190, 0]])\n",
    "print(prediction)"
   ]
  },
  {
   "cell_type": "markdown",
   "metadata": {},
   "source": [
    "## Working with Iris Dataset"
   ]
  },
  {
   "cell_type": "code",
   "execution_count": 9,
   "metadata": {},
   "outputs": [
    {
     "name": "stdout",
     "output_type": "stream",
     "text": [
      "[0 1 2]\n",
      "[0 1 2]\n"
     ]
    }
   ],
   "source": [
    "from sklearn.datasets import load_iris as iris\n",
    "from sklearn.tree import DecisionTreeClassifier as DTC\n",
    "import numpy as np\n",
    "\n",
    "# Set iris dataset\n",
    "ir = iris()\n",
    "\n",
    "# Extract Testing data\n",
    "test_id = [0, 50, 100]\n",
    "test_data = ir.data[test_id]\n",
    "test_label = ir.target[test_id]\n",
    "\n",
    "# Delete test data from training data\n",
    "train_data = np.delete(ir.data, test_id, axis = 0)\n",
    "train_label = np.delete(ir.target, test_id)\n",
    "\n",
    "# Train Classifier\n",
    "clf = DTC()\n",
    "clf.fit(train_data, train_label)\n",
    "\n",
    "# Print prediction vs actual value\n",
    "print(clf.predict(test_data))\n",
    "print(test_label)"
   ]
  },
  {
   "cell_type": "markdown",
   "metadata": {},
   "source": [
    "## Check metrics"
   ]
  },
  {
   "cell_type": "code",
   "execution_count": 15,
   "metadata": {},
   "outputs": [
    {
     "name": "stdout",
     "output_type": "stream",
     "text": [
      "0.96\n",
      "0.96\n"
     ]
    }
   ],
   "source": [
    "from sklearn.datasets import load_iris as iris\n",
    "from sklearn.tree import DecisionTreeClassifier as DTC\n",
    "from sklearn.neighbors import KNeighborsClassifier as KNN\n",
    "from sklearn.metrics import accuracy_score \n",
    "from sklearn.model_selection import train_test_split\n",
    "import numpy as np\n",
    "\n",
    "# Set iris dataset\n",
    "ir = iris()\n",
    "\n",
    "# Split Train and Test Data\n",
    "train_data, test_data, train_label, test_label = train_test_split(ir.data, ir.target, test_size = 0.5)\n",
    "\n",
    "# Train Decision Tree\n",
    "dtc = DTC()\n",
    "dtc.fit(train_data, train_label)\n",
    "\n",
    "# Train K Nearest Neighbors\n",
    "knn = KNN()\n",
    "knn.fit(train_data, train_label)\n",
    "\n",
    "# Predict Output\n",
    "dtc_p = dtc.predict(test_data)\n",
    "knn_p = knn.predict(test_data)\n",
    "\n",
    "# Calculate Accuracy Score\n",
    "print(accuracy_score(test_label, dtc_p))\n",
    "print(accuracy_score(test_label, knn_p))"
   ]
  },
  {
   "cell_type": "markdown",
   "metadata": {},
   "source": [
    "## Build your own Classifier"
   ]
  },
  {
   "cell_type": "code",
   "execution_count": 44,
   "metadata": {},
   "outputs": [
    {
     "name": "stdout",
     "output_type": "stream",
     "text": [
      "0.96\n"
     ]
    }
   ],
   "source": [
    "from sklearn.datasets import load_iris as iris\n",
    "from sklearn.metrics import accuracy_score \n",
    "from sklearn.model_selection import train_test_split\n",
    "import random\n",
    "\n",
    "# Build my Scrapy Classifier\n",
    "class ScrapyClasifier:\n",
    "    # This is my own classifier\n",
    "    def __init__(self):\n",
    "        pass\n",
    "    \n",
    "    def fit(self, data, label):\n",
    "        self.data = data\n",
    "        self.label = label\n",
    "        self.features = len(data[0])\n",
    "    \n",
    "    def predict(self, data):\n",
    "        # Random Prediction\n",
    "        # prediction = [random.choice(self.label) for _ in data]\n",
    "        prediction = []\n",
    "        for test_data in data:\n",
    "            distance = None\n",
    "            index = None\n",
    "            for idx, train_data in enumerate(self.data):\n",
    "                new_distance = sum([(test_data[i] - train_data[i])**2 for i in range(self.features)])**(1/2)\n",
    "                if distance is None or distance > new_distance:\n",
    "                    distance = new_distance\n",
    "                    index = idx\n",
    "            prediction.append(self.label[index])\n",
    "        return prediction\n",
    "\n",
    "# Set iris dataset\n",
    "ir = iris()\n",
    "\n",
    "# Split Train and Test Data\n",
    "train_data, test_data, train_label, test_label = train_test_split(ir.data, ir.target, test_size = 0.5)\n",
    "\n",
    "# Train my Classifier\n",
    "clf = ScrapyClasifier()\n",
    "clf.fit(train_data, train_label)\n",
    "\n",
    "# Predict Output\n",
    "prediction = clf.predict(test_data)\n",
    "\n",
    "# Calculate Accuracy Score\n",
    "print(accuracy_score(test_label, prediction))"
   ]
  }
 ],
 "metadata": {
  "kernelspec": {
   "display_name": "Python 3",
   "language": "python",
   "name": "python3"
  },
  "language_info": {
   "codemirror_mode": {
    "name": "ipython",
    "version": 3
   },
   "file_extension": ".py",
   "mimetype": "text/x-python",
   "name": "python",
   "nbconvert_exporter": "python",
   "pygments_lexer": "ipython3",
   "version": "3.7.3"
  }
 },
 "nbformat": 4,
 "nbformat_minor": 2
}
